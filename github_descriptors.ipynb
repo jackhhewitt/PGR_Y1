{
 "cells": [
  {
   "cell_type": "markdown",
   "metadata": {},
   "source": [
    "# mordred descriptors"
   ]
  },
  {
   "cell_type": "code",
   "execution_count": null,
   "metadata": {},
   "outputs": [],
   "source": [
    "# this process was done in separate stages due to different conda environments for each descriptor module ie one for mordred, one for mold and one for rdkit\n",
    "\n",
    "# imports\n",
    "\n",
    "import pandas as pd\n",
    "import numpy as np\n",
    "import rdkit\n",
    "from rdkit import Chem\n",
    "from rdkit.Chem import Descriptors, Draw, AllChem\n",
    "from mordred import Calculator, descriptors\n",
    "\n",
    "tob_data = pd.read_csv(r'M:\\ML_scripts\\tobramycin_data_class_struct.csv')\n",
    "tob_data = tob_data.drop(columns=['Unnamed: 0'])\n",
    "tob_smiles = tob_data['Structure']\n",
    "\n",
    "calc = Calculator(descriptors, ignore_3D=False) # setting the mordred descriptors calculator\n",
    "\n",
    "mols = [Chem.MolFromSmiles(smi) for smi in tob_data['Structure']] # for each smiles, convert it into an RDkit mol object\n",
    "mols_3d = []\n",
    "\n",
    "for x in mols:\n",
    "    Chem.AddHs(x) # add Hs\n",
    "    AllChem.EmbedMolecule(x) # fix geometry, not really needed but should fix any errors with adding Hs\n",
    "    mols_3d.append(x)\n",
    "\n",
    "df = calc.pandas(mols) # calculates full set of mordred descriptors\n",
    "\n",
    "def is_numeric(column):\n",
    "    return pd.to_numeric(column, errors='coerce').notna().all() # if the feature contains any text or errors, the feature is removed\n",
    "\n",
    "non_numeric_columns = [col for col in df.columns if not is_numeric(df[col])] # ^^\n",
    "\n",
    "df_cleaned = df.drop(columns=non_numeric_columns) # ^^\n",
    "\n",
    "# processing time: 10m 15.4s"
   ]
  },
  {
   "cell_type": "code",
   "execution_count": null,
   "metadata": {},
   "outputs": [],
   "source": [
    "df_cleaned.insert(0, 'Structure', tob_smiles) # coincidentally, the SMILES strings get removed as they are text, so they're re-inserted"
   ]
  },
  {
   "cell_type": "code",
   "execution_count": null,
   "metadata": {},
   "outputs": [],
   "source": [
    "structure = tob_data['Structure']\n",
    "classifier = tob_data['Class'] # technically we created a new dataframe of descriptors from the SMILES so there was no classifier column present, hence inserting this column here\n",
    "# df_cleaned.insert(0, 'Structure', structure)\n",
    "df_cleaned.insert(1, 'Class', classifier)"
   ]
  },
  {
   "cell_type": "code",
   "execution_count": null,
   "metadata": {},
   "outputs": [],
   "source": [
    "df_cleaned.to_csv('./tobramycin_mordred_descriptors.csv') # saved as .csv file to be read in the .ipynb file for adding mold2 descriptors"
   ]
  },
  {
   "cell_type": "markdown",
   "metadata": {},
   "source": [
    "# mold2 descriptors"
   ]
  },
  {
   "cell_type": "code",
   "execution_count": null,
   "metadata": {},
   "outputs": [],
   "source": [
    "from Mold2_pywrapper import Mold2\n",
    "\n",
    "path_to_zipfile = 'M:/ML_scripts/data/Mold2-Executable-File.zip'\n",
    "\n",
    "mold2 = Mold2.from_executable(path_to_zipfile) # the mold2 descriptors are held in a zip file (much easier to handle than the errors I've had from installing the pywrapper in conda)"
   ]
  },
  {
   "cell_type": "code",
   "execution_count": null,
   "metadata": {},
   "outputs": [],
   "source": [
    "import pandas as pd\n",
    "\n",
    "main = pd.read_csv('M:/ML_scripts/notebooks/tobramycin_mordred_descriptors.csv') # read in the mordred descriptors\n",
    "data = pd.DataFrame(main['Structure'])"
   ]
  },
  {
   "cell_type": "code",
   "execution_count": null,
   "metadata": {},
   "outputs": [],
   "source": [
    "from rdkit import Chem\n",
    "\n",
    "mols = [Chem.MolFromSmiles(x) for x in data['Structure']] # again, convert SMILES to RDkit mol objects\n",
    "\n",
    "descriptors = mold2.calculate(mols, show_banner=False) # calculate the mold2 descriptors from the SMILES"
   ]
  },
  {
   "cell_type": "code",
   "execution_count": null,
   "metadata": {},
   "outputs": [],
   "source": [
    "mold2_df = pd.DataFrame.from_dict(descriptors, orient='columns') # convert the descriptors array into a dataframe\n",
    "mold2_df.rename(columns=mold2.descriptor_details()) # keep the descriptor titles in the dataframe"
   ]
  },
  {
   "cell_type": "code",
   "execution_count": null,
   "metadata": {},
   "outputs": [],
   "source": [
    "def is_numeric(column):\n",
    "    return pd.to_numeric(column, errors='coerce').notna().all()\n",
    "\n",
    "non_numeric_columns = [col for col in mold2_df.columns if not is_numeric(mold2_df[col])]\n",
    "\n",
    "mold2_df_clean = mold2_df.drop(columns=non_numeric_columns) # again, drop columns that contain text"
   ]
  },
  {
   "cell_type": "code",
   "execution_count": null,
   "metadata": {},
   "outputs": [],
   "source": [
    "mordred_mold2 = pd.concat([main, mold2_df_clean], axis=1) # joined the mordred and mold2 dataframes together"
   ]
  },
  {
   "cell_type": "code",
   "execution_count": null,
   "metadata": {},
   "outputs": [],
   "source": [
    "mordred_mold2.to_csv('../mordred_mold2_tob_5889.csv') # save as a .csv file, in case of any errors"
   ]
  },
  {
   "cell_type": "code",
   "execution_count": null,
   "metadata": {},
   "outputs": [],
   "source": [
    "from rdkit.Chem import Descriptors\n",
    "\n",
    "rdkit_descr = []\n",
    "\n",
    "for x in mols:\n",
    "    desc = Descriptors.CalcMolDescriptors(x)\n",
    "    rdkit_descr.append(desc) # calculate RDkit descriptors\n",
    "\n",
    "rdkit_df = pd.DataFrame(rdkit_descr) # convert to dataframe\n",
    "\n",
    "non_numeric_columns_rdkit = [col for col in rdkit_df.columns if not is_numeric(rdkit_df[col])]\n",
    "rdkit_df_clean = rdkit_df.drop(columns=non_numeric_columns_rdkit) # again, clean the dataframe \n",
    "\n",
    "mordred_mold2_rdkit_df = pd.concat([mordred_mold2, rdkit_df_clean], axis=1) # join the RDkit dataframe onto mordred and mold2\n",
    "mordred_mold2_rdkit_df = mordred_mold2_rdkit_df.drop(columns=['Unnamed: 0'])\n",
    "mordred_mold2_rdkit_df.to_csv('../mordred_mold2_rdkit_descr_tob_5889.csv') # save as final csv\n",
    "\n",
    "# final result is a dataframe of 5889 macrocycles and 2416 descriptors (structure and class make up the total 2418 columns)"
   ]
  }
 ],
 "metadata": {
  "kernelspec": {
   "display_name": "mordred_desc",
   "language": "python",
   "name": "python3"
  },
  "language_info": {
   "name": "python",
   "version": "3.10.15"
  }
 },
 "nbformat": 4,
 "nbformat_minor": 2
}
