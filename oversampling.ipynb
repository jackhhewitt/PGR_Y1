{
 "cells": [
  {
   "cell_type": "markdown",
   "metadata": {},
   "source": [
    "# classification and oversampling the minority"
   ]
  },
  {
   "cell_type": "code",
   "execution_count": 6,
   "metadata": {},
   "outputs": [],
   "source": [
    "import pandas as pd\n",
    "import numpy as np\n",
    "import matplotlib.pyplot as plt\n",
    "from imblearn.over_sampling import RandomOverSampler\n",
    "from imblearn.over_sampling import SMOTE\n",
    "from sklearn.model_selection import train_test_split\n",
    "from sklearn.ensemble import RandomForestClassifier as rfc\n",
    "from sklearn.metrics import accuracy_score, matthews_corrcoef, classification_report, roc_auc_score\n",
    "\n",
    "tob_data = pd.read_csv('tob_processed.csv', sep=',')\n",
    "tob_data = tob_data.drop(columns=['Unnamed: 0'])\n",
    "\n",
    "col_data = pd.read_csv('col_processed.csv', sep=',')\n",
    "col_data = col_data.drop(columns=['Unnamed: 0'])\n",
    "\n",
    "tob_X = tob_data.drop(columns=['Tob_Pot_1','ID','MCS Cluster','Structure','Class'])\n",
    "tob_y = tob_data['Class']\n",
    "\n",
    "tob_X = tob_X.convert_dtypes()\n",
    "tob_y = tob_y.convert_dtypes()\n",
    "\n",
    "col_X = col_data.drop(columns=['Col_Pot_1','Structure','ID','Class','MCS Cluster'])\n",
    "col_y = col_data['Class']\n",
    "\n",
    "col_X = col_X.convert_dtypes()\n",
    "col_y = col_y.convert_dtypes()\n",
    "\n",
    "\n",
    "tob_X_train, tob_X_test, tob_y_train, tob_y_test = train_test_split(tob_X, tob_y, test_size=0.25, stratify=tob_y)\n",
    "\n",
    "col_X_train, col_X_test, col_y_train, col_y_test = train_test_split(col_X, col_y, test_size=0.25, stratify=col_y)\n",
    "\n",
    "\n",
    "ros = RandomOverSampler(random_state=42)\n",
    "\n",
    "tob_X_oversampled, tob_y_oversampled = ros.fit_resample(tob_X_train, tob_y_train)\n",
    "\n",
    "col_X_oversampled, col_y_oversampled = ros.fit_resample(col_X_train, col_y_train)"
   ]
  },
  {
   "cell_type": "markdown",
   "metadata": {},
   "source": [
    " # data processing for classification"
   ]
  },
  {
   "cell_type": "code",
   "execution_count": 7,
   "metadata": {},
   "outputs": [],
   "source": [
    "tob_data = tob_data.drop(columns=['ID','Tob_Pot_1','RB','clogP','tPSA','Hacc','Hdon','LogSw','Mol Weight','MCS Cluster'])"
   ]
  },
  {
   "cell_type": "code",
   "execution_count": 8,
   "metadata": {},
   "outputs": [],
   "source": [
    "tob_data = tob_data.convert_dtypes()"
   ]
  },
  {
   "cell_type": "code",
   "execution_count": null,
   "metadata": {},
   "outputs": [],
   "source": [
    "tob_data_train, tob_data_test = train_test_split(tob_data, test_size=0.3)\n",
    "\n",
    "##tob_data_train_rus, tob_data_test_rus = ros.fit_resample(tob_data_train, tob_data_test)"
   ]
  },
  {
   "cell_type": "code",
   "execution_count": 10,
   "metadata": {},
   "outputs": [],
   "source": [
    "X_smiles = tob_data['Structure']  # Column with SMILES strings\n",
    "y = tob_data['Class']  # Binary target column\n",
    "\n",
    "rosamp = RandomOverSampler(random_state=42)\n",
    "\n",
    "# Perform random undersampling on the target (y), which contains 1s and 0s\n",
    "X_resamp, y_resamp = rosamp.fit_resample(X_smiles.values.reshape(-1, 1), y)\n",
    "\n",
    "# After resampling, X_resampled will be the SMILES column with the undersampled target labels\n",
    "df_resampled = pd.DataFrame({'Structure': X_resamp.flatten(), 'Class': y_resamp})\n",
    "# df_resampled now contains the undersampled SMILES data and the corresponding target labels"
   ]
  },
  {
   "cell_type": "code",
   "execution_count": 20,
   "metadata": {},
   "outputs": [],
   "source": [
    "df_resampled_train, df_resampled_test = train_test_split(df_resampled, test_size=0.25)\n",
    "df_resampled_train_strat, df_resampled_test_strat = train_test_split(df_resampled, test_size=0.25, stratify=y_resamp)\n",
    "\n",
    "# df_resampled_train.to_csv('./tobramycin_oversampled_train.csv')\n",
    "# df_resampled_test.to_csv('./tobramycin_oversampled_test.csv')"
   ]
  },
  {
   "cell_type": "code",
   "execution_count": 23,
   "metadata": {},
   "outputs": [
    {
     "name": "stdout",
     "output_type": "stream",
     "text": [
      "Number of active in random split: 4160\n",
      "Number of inactive in random split: 4181\n",
      "\n",
      "Number of active in strat split: 4171\n",
      "Number of inactive in strat split: 4170\n",
      "\n",
      "Total compounds in train set: Rand: 8341\n",
      "Total compounds in test set: Rand: 2781\n",
      "\n",
      "Total compounds in train set: Strat: 8341\n",
      "Total compounds in test set: Strat: 2781\n",
      "\n",
      "Total in undersampled dataset: 11122 ( increased from 5889 )\n"
     ]
    }
   ],
   "source": [
    "count=0\n",
    "count1=0\n",
    "count2=0\n",
    "count3=0\n",
    "for i in df_resampled_train['Class']:\n",
    "    if i == 0:\n",
    "        count+=1\n",
    "    if i == 1:\n",
    "        count1+=1\n",
    "for j in df_resampled_train_strat['Class']:\n",
    "    if j == 0:\n",
    "        count2+=1\n",
    "    if j == 1:\n",
    "        count3+=1 \n",
    "print('Number of active in random split:', count)\n",
    "print('Number of inactive in random split:', count1)\n",
    "\n",
    "print('\\nNumber of active in strat split:', count2)\n",
    "print('Number of inactive in strat split:', count3)\n",
    "\n",
    "print('\\nTotal compounds in train set:', 'Rand:',len(df_resampled_train))\n",
    "print('Total compounds in test set:','Rand:', len(df_resampled_test))\n",
    "\n",
    "print('\\nTotal compounds in train set:', 'Strat:',len(df_resampled_train))\n",
    "print('Total compounds in test set:','Strat:', len(df_resampled_test))\n",
    "\n",
    "print('\\nTotal in undersampled dataset:', len(df_resampled),'( increased from', len(tob_data),')')"
   ]
  },
  {
   "cell_type": "markdown",
   "metadata": {},
   "source": [
    "SMOTE Oversampling"
   ]
  },
  {
   "cell_type": "code",
   "execution_count": 19,
   "metadata": {},
   "outputs": [
    {
     "ename": "ValueError",
     "evalue": "could not convert string to float: 'COc1c2cc(cc1)C(=O)[N@]3CC[C@@H](CNC(=O)CCCc4nn[n@](c4)CCO2)CC3'",
     "output_type": "error",
     "traceback": [
      "\u001b[1;31m---------------------------------------------------------------------------\u001b[0m",
      "\u001b[1;31mValueError\u001b[0m                                Traceback (most recent call last)",
      "Cell \u001b[1;32mIn[19], line 5\u001b[0m\n\u001b[0;32m      1\u001b[0m \u001b[38;5;28;01mfrom\u001b[39;00m \u001b[38;5;21;01mimblearn\u001b[39;00m\u001b[38;5;21;01m.\u001b[39;00m\u001b[38;5;21;01mover_sampling\u001b[39;00m \u001b[38;5;28;01mimport\u001b[39;00m SMOTE, ADASYN\n\u001b[0;32m      3\u001b[0m adasyn \u001b[38;5;241m=\u001b[39m ADASYN()\n\u001b[1;32m----> 5\u001b[0m X_smote_resamp, y_smote_resamp \u001b[38;5;241m=\u001b[39m adasyn\u001b[38;5;241m.\u001b[39mfit_resample(X_smiles\u001b[38;5;241m.\u001b[39mvalues\u001b[38;5;241m.\u001b[39mreshape(\u001b[38;5;241m-\u001b[39m\u001b[38;5;241m1\u001b[39m, \u001b[38;5;241m1\u001b[39m),y)\n",
      "File \u001b[1;32mc:\\Users\\sgjhewi2\\.conda\\envs\\imblearn\\Lib\\site-packages\\imblearn\\base.py:208\u001b[0m, in \u001b[0;36mBaseSampler.fit_resample\u001b[1;34m(self, X, y)\u001b[0m\n\u001b[0;32m    187\u001b[0m \u001b[38;5;250m\u001b[39m\u001b[38;5;124;03m\"\"\"Resample the dataset.\u001b[39;00m\n\u001b[0;32m    188\u001b[0m \n\u001b[0;32m    189\u001b[0m \u001b[38;5;124;03mParameters\u001b[39;00m\n\u001b[1;32m   (...)\u001b[0m\n\u001b[0;32m    205\u001b[0m \u001b[38;5;124;03m    The corresponding label of `X_resampled`.\u001b[39;00m\n\u001b[0;32m    206\u001b[0m \u001b[38;5;124;03m\"\"\"\u001b[39;00m\n\u001b[0;32m    207\u001b[0m \u001b[38;5;28mself\u001b[39m\u001b[38;5;241m.\u001b[39m_validate_params()\n\u001b[1;32m--> 208\u001b[0m \u001b[38;5;28;01mreturn\u001b[39;00m \u001b[38;5;28msuper\u001b[39m()\u001b[38;5;241m.\u001b[39mfit_resample(X, y)\n",
      "File \u001b[1;32mc:\\Users\\sgjhewi2\\.conda\\envs\\imblearn\\Lib\\site-packages\\imblearn\\base.py:112\u001b[0m, in \u001b[0;36mSamplerMixin.fit_resample\u001b[1;34m(self, X, y)\u001b[0m\n\u001b[0;32m    106\u001b[0m X, y, binarize_y \u001b[38;5;241m=\u001b[39m \u001b[38;5;28mself\u001b[39m\u001b[38;5;241m.\u001b[39m_check_X_y(X, y)\n\u001b[0;32m    108\u001b[0m \u001b[38;5;28mself\u001b[39m\u001b[38;5;241m.\u001b[39msampling_strategy_ \u001b[38;5;241m=\u001b[39m check_sampling_strategy(\n\u001b[0;32m    109\u001b[0m     \u001b[38;5;28mself\u001b[39m\u001b[38;5;241m.\u001b[39msampling_strategy, y, \u001b[38;5;28mself\u001b[39m\u001b[38;5;241m.\u001b[39m_sampling_type\n\u001b[0;32m    110\u001b[0m )\n\u001b[1;32m--> 112\u001b[0m output \u001b[38;5;241m=\u001b[39m \u001b[38;5;28mself\u001b[39m\u001b[38;5;241m.\u001b[39m_fit_resample(X, y)\n\u001b[0;32m    114\u001b[0m y_ \u001b[38;5;241m=\u001b[39m (\n\u001b[0;32m    115\u001b[0m     label_binarize(output[\u001b[38;5;241m1\u001b[39m], classes\u001b[38;5;241m=\u001b[39mnp\u001b[38;5;241m.\u001b[39munique(y)) \u001b[38;5;28;01mif\u001b[39;00m binarize_y \u001b[38;5;28;01melse\u001b[39;00m output[\u001b[38;5;241m1\u001b[39m]\n\u001b[0;32m    116\u001b[0m )\n\u001b[0;32m    118\u001b[0m X_, y_ \u001b[38;5;241m=\u001b[39m arrays_transformer\u001b[38;5;241m.\u001b[39mtransform(output[\u001b[38;5;241m0\u001b[39m], y_)\n",
      "File \u001b[1;32mc:\\Users\\sgjhewi2\\.conda\\envs\\imblearn\\Lib\\site-packages\\imblearn\\over_sampling\\_adasyn.py:175\u001b[0m, in \u001b[0;36mADASYN._fit_resample\u001b[1;34m(self, X, y)\u001b[0m\n\u001b[0;32m    172\u001b[0m target_class_indices \u001b[38;5;241m=\u001b[39m np\u001b[38;5;241m.\u001b[39mflatnonzero(y \u001b[38;5;241m==\u001b[39m class_sample)\n\u001b[0;32m    173\u001b[0m X_class \u001b[38;5;241m=\u001b[39m _safe_indexing(X, target_class_indices)\n\u001b[1;32m--> 175\u001b[0m \u001b[38;5;28mself\u001b[39m\u001b[38;5;241m.\u001b[39mnn_\u001b[38;5;241m.\u001b[39mfit(X)\n\u001b[0;32m    176\u001b[0m nns \u001b[38;5;241m=\u001b[39m \u001b[38;5;28mself\u001b[39m\u001b[38;5;241m.\u001b[39mnn_\u001b[38;5;241m.\u001b[39mkneighbors(X_class, return_distance\u001b[38;5;241m=\u001b[39m\u001b[38;5;28;01mFalse\u001b[39;00m)[:, \u001b[38;5;241m1\u001b[39m:]\n\u001b[0;32m    177\u001b[0m \u001b[38;5;66;03m# The ratio is computed using a one-vs-rest manner. Using majority\u001b[39;00m\n\u001b[0;32m    178\u001b[0m \u001b[38;5;66;03m# in multi-class would lead to slightly different results at the\u001b[39;00m\n\u001b[0;32m    179\u001b[0m \u001b[38;5;66;03m# cost of introducing a new parameter.\u001b[39;00m\n",
      "File \u001b[1;32mc:\\Users\\sgjhewi2\\.conda\\envs\\imblearn\\Lib\\site-packages\\sklearn\\base.py:1473\u001b[0m, in \u001b[0;36m_fit_context.<locals>.decorator.<locals>.wrapper\u001b[1;34m(estimator, *args, **kwargs)\u001b[0m\n\u001b[0;32m   1466\u001b[0m     estimator\u001b[38;5;241m.\u001b[39m_validate_params()\n\u001b[0;32m   1468\u001b[0m \u001b[38;5;28;01mwith\u001b[39;00m config_context(\n\u001b[0;32m   1469\u001b[0m     skip_parameter_validation\u001b[38;5;241m=\u001b[39m(\n\u001b[0;32m   1470\u001b[0m         prefer_skip_nested_validation \u001b[38;5;129;01mor\u001b[39;00m global_skip_validation\n\u001b[0;32m   1471\u001b[0m     )\n\u001b[0;32m   1472\u001b[0m ):\n\u001b[1;32m-> 1473\u001b[0m     \u001b[38;5;28;01mreturn\u001b[39;00m fit_method(estimator, \u001b[38;5;241m*\u001b[39margs, \u001b[38;5;241m*\u001b[39m\u001b[38;5;241m*\u001b[39mkwargs)\n",
      "File \u001b[1;32mc:\\Users\\sgjhewi2\\.conda\\envs\\imblearn\\Lib\\site-packages\\sklearn\\neighbors\\_unsupervised.py:176\u001b[0m, in \u001b[0;36mNearestNeighbors.fit\u001b[1;34m(self, X, y)\u001b[0m\n\u001b[0;32m    155\u001b[0m \u001b[38;5;129m@_fit_context\u001b[39m(\n\u001b[0;32m    156\u001b[0m     \u001b[38;5;66;03m# NearestNeighbors.metric is not validated yet\u001b[39;00m\n\u001b[0;32m    157\u001b[0m     prefer_skip_nested_validation\u001b[38;5;241m=\u001b[39m\u001b[38;5;28;01mFalse\u001b[39;00m\n\u001b[0;32m    158\u001b[0m )\n\u001b[0;32m    159\u001b[0m \u001b[38;5;28;01mdef\u001b[39;00m \u001b[38;5;21mfit\u001b[39m(\u001b[38;5;28mself\u001b[39m, X, y\u001b[38;5;241m=\u001b[39m\u001b[38;5;28;01mNone\u001b[39;00m):\n\u001b[0;32m    160\u001b[0m \u001b[38;5;250m    \u001b[39m\u001b[38;5;124;03m\"\"\"Fit the nearest neighbors estimator from the training dataset.\u001b[39;00m\n\u001b[0;32m    161\u001b[0m \n\u001b[0;32m    162\u001b[0m \u001b[38;5;124;03m    Parameters\u001b[39;00m\n\u001b[1;32m   (...)\u001b[0m\n\u001b[0;32m    174\u001b[0m \u001b[38;5;124;03m        The fitted nearest neighbors estimator.\u001b[39;00m\n\u001b[0;32m    175\u001b[0m \u001b[38;5;124;03m    \"\"\"\u001b[39;00m\n\u001b[1;32m--> 176\u001b[0m     \u001b[38;5;28;01mreturn\u001b[39;00m \u001b[38;5;28mself\u001b[39m\u001b[38;5;241m.\u001b[39m_fit(X)\n",
      "File \u001b[1;32mc:\\Users\\sgjhewi2\\.conda\\envs\\imblearn\\Lib\\site-packages\\sklearn\\neighbors\\_base.py:517\u001b[0m, in \u001b[0;36mNeighborsBase._fit\u001b[1;34m(self, X, y)\u001b[0m\n\u001b[0;32m    515\u001b[0m \u001b[38;5;28;01melse\u001b[39;00m:\n\u001b[0;32m    516\u001b[0m     \u001b[38;5;28;01mif\u001b[39;00m \u001b[38;5;129;01mnot\u001b[39;00m \u001b[38;5;28misinstance\u001b[39m(X, (KDTree, BallTree, NeighborsBase)):\n\u001b[1;32m--> 517\u001b[0m         X \u001b[38;5;241m=\u001b[39m \u001b[38;5;28mself\u001b[39m\u001b[38;5;241m.\u001b[39m_validate_data(X, accept_sparse\u001b[38;5;241m=\u001b[39m\u001b[38;5;124m\"\u001b[39m\u001b[38;5;124mcsr\u001b[39m\u001b[38;5;124m\"\u001b[39m, order\u001b[38;5;241m=\u001b[39m\u001b[38;5;124m\"\u001b[39m\u001b[38;5;124mC\u001b[39m\u001b[38;5;124m\"\u001b[39m)\n\u001b[0;32m    519\u001b[0m \u001b[38;5;28mself\u001b[39m\u001b[38;5;241m.\u001b[39m_check_algorithm_metric()\n\u001b[0;32m    520\u001b[0m \u001b[38;5;28;01mif\u001b[39;00m \u001b[38;5;28mself\u001b[39m\u001b[38;5;241m.\u001b[39mmetric_params \u001b[38;5;129;01mis\u001b[39;00m \u001b[38;5;28;01mNone\u001b[39;00m:\n",
      "File \u001b[1;32mc:\\Users\\sgjhewi2\\.conda\\envs\\imblearn\\Lib\\site-packages\\sklearn\\base.py:633\u001b[0m, in \u001b[0;36mBaseEstimator._validate_data\u001b[1;34m(self, X, y, reset, validate_separately, cast_to_ndarray, **check_params)\u001b[0m\n\u001b[0;32m    631\u001b[0m         out \u001b[38;5;241m=\u001b[39m X, y\n\u001b[0;32m    632\u001b[0m \u001b[38;5;28;01melif\u001b[39;00m \u001b[38;5;129;01mnot\u001b[39;00m no_val_X \u001b[38;5;129;01mand\u001b[39;00m no_val_y:\n\u001b[1;32m--> 633\u001b[0m     out \u001b[38;5;241m=\u001b[39m check_array(X, input_name\u001b[38;5;241m=\u001b[39m\u001b[38;5;124m\"\u001b[39m\u001b[38;5;124mX\u001b[39m\u001b[38;5;124m\"\u001b[39m, \u001b[38;5;241m*\u001b[39m\u001b[38;5;241m*\u001b[39mcheck_params)\n\u001b[0;32m    634\u001b[0m \u001b[38;5;28;01melif\u001b[39;00m no_val_X \u001b[38;5;129;01mand\u001b[39;00m \u001b[38;5;129;01mnot\u001b[39;00m no_val_y:\n\u001b[0;32m    635\u001b[0m     out \u001b[38;5;241m=\u001b[39m _check_y(y, \u001b[38;5;241m*\u001b[39m\u001b[38;5;241m*\u001b[39mcheck_params)\n",
      "File \u001b[1;32mc:\\Users\\sgjhewi2\\.conda\\envs\\imblearn\\Lib\\site-packages\\sklearn\\utils\\validation.py:1012\u001b[0m, in \u001b[0;36mcheck_array\u001b[1;34m(array, accept_sparse, accept_large_sparse, dtype, order, copy, force_writeable, force_all_finite, ensure_2d, allow_nd, ensure_min_samples, ensure_min_features, estimator, input_name)\u001b[0m\n\u001b[0;32m   1010\u001b[0m         array \u001b[38;5;241m=\u001b[39m xp\u001b[38;5;241m.\u001b[39mastype(array, dtype, copy\u001b[38;5;241m=\u001b[39m\u001b[38;5;28;01mFalse\u001b[39;00m)\n\u001b[0;32m   1011\u001b[0m     \u001b[38;5;28;01melse\u001b[39;00m:\n\u001b[1;32m-> 1012\u001b[0m         array \u001b[38;5;241m=\u001b[39m _asarray_with_order(array, order\u001b[38;5;241m=\u001b[39morder, dtype\u001b[38;5;241m=\u001b[39mdtype, xp\u001b[38;5;241m=\u001b[39mxp)\n\u001b[0;32m   1013\u001b[0m \u001b[38;5;28;01mexcept\u001b[39;00m ComplexWarning \u001b[38;5;28;01mas\u001b[39;00m complex_warning:\n\u001b[0;32m   1014\u001b[0m     \u001b[38;5;28;01mraise\u001b[39;00m \u001b[38;5;167;01mValueError\u001b[39;00m(\n\u001b[0;32m   1015\u001b[0m         \u001b[38;5;124m\"\u001b[39m\u001b[38;5;124mComplex data not supported\u001b[39m\u001b[38;5;130;01m\\n\u001b[39;00m\u001b[38;5;132;01m{}\u001b[39;00m\u001b[38;5;130;01m\\n\u001b[39;00m\u001b[38;5;124m\"\u001b[39m\u001b[38;5;241m.\u001b[39mformat(array)\n\u001b[0;32m   1016\u001b[0m     ) \u001b[38;5;28;01mfrom\u001b[39;00m \u001b[38;5;21;01mcomplex_warning\u001b[39;00m\n",
      "File \u001b[1;32mc:\\Users\\sgjhewi2\\.conda\\envs\\imblearn\\Lib\\site-packages\\sklearn\\utils\\_array_api.py:751\u001b[0m, in \u001b[0;36m_asarray_with_order\u001b[1;34m(array, dtype, order, copy, xp, device)\u001b[0m\n\u001b[0;32m    749\u001b[0m     array \u001b[38;5;241m=\u001b[39m numpy\u001b[38;5;241m.\u001b[39marray(array, order\u001b[38;5;241m=\u001b[39morder, dtype\u001b[38;5;241m=\u001b[39mdtype)\n\u001b[0;32m    750\u001b[0m \u001b[38;5;28;01melse\u001b[39;00m:\n\u001b[1;32m--> 751\u001b[0m     array \u001b[38;5;241m=\u001b[39m numpy\u001b[38;5;241m.\u001b[39masarray(array, order\u001b[38;5;241m=\u001b[39morder, dtype\u001b[38;5;241m=\u001b[39mdtype)\n\u001b[0;32m    753\u001b[0m \u001b[38;5;66;03m# At this point array is a NumPy ndarray. We convert it to an array\u001b[39;00m\n\u001b[0;32m    754\u001b[0m \u001b[38;5;66;03m# container that is consistent with the input's namespace.\u001b[39;00m\n\u001b[0;32m    755\u001b[0m \u001b[38;5;28;01mreturn\u001b[39;00m xp\u001b[38;5;241m.\u001b[39masarray(array)\n",
      "\u001b[1;31mValueError\u001b[0m: could not convert string to float: 'COc1c2cc(cc1)C(=O)[N@]3CC[C@@H](CNC(=O)CCCc4nn[n@](c4)CCO2)CC3'"
     ]
    }
   ],
   "source": [
    "from imblearn.over_sampling import SMOTE, ADASYN\n",
    "\n",
    "adasyn = ADASYN()\n",
    "\n",
    "X_smote_resamp, y_smote_resamp = adasyn.fit_resample(X_smiles.values.reshape(-1, 1),y)"
   ]
  },
  {
   "cell_type": "code",
   "execution_count": 11,
   "metadata": {},
   "outputs": [
    {
     "name": "stdout",
     "output_type": "stream",
     "text": [
      "4170\n",
      "total: 8340\n"
     ]
    }
   ],
   "source": [
    "count = 0 \n",
    "for x in tob_y_oversampled:\n",
    "    if x == 1:\n",
    "        count += 1\n",
    "    else:\n",
    "        continue\n",
    "print(count)\n",
    "print('total:', len(tob_X_oversampled))"
   ]
  },
  {
   "cell_type": "code",
   "execution_count": 14,
   "metadata": {},
   "outputs": [],
   "source": [
    "from sklearn.manifold import TSNE\n",
    "\n",
    "tsne1 = TSNE(n_components=2, random_state=42, perplexity=5)\n",
    "a_tsne1 = tsne1.fit_transform(tob_X)\n",
    "\n",
    "tsne2 = TSNE(n_components=2, random_state=42, perplexity=10)\n",
    "a_tsne2 = tsne2.fit_transform(tob_X)\n",
    "\n",
    "tsne3 = TSNE(n_components=2, random_state=42, perplexity=30)\n",
    "a_tsne3 = tsne3.fit_transform(tob_X)\n",
    "\n",
    "tsne4 = TSNE(n_components=2, random_state=42, perplexity=100)\n",
    "a_tsne4 = tsne4.fit_transform(tob_X)"
   ]
  },
  {
   "cell_type": "code",
   "execution_count": null,
   "metadata": {},
   "outputs": [],
   "source": [
    "tsne11 = TSNE(n_components=2, random_state=42, perplexity=5)\n",
    "a_tsne11 = tsne11.fit_transform(tob_X_oversampled)\n",
    "\n",
    "tsne21 = TSNE(n_components=2, random_state=42, perplexity=10)\n",
    "a_tsne21 = tsne21.fit_transform(tob_X_oversampled)\n",
    "\n",
    "tsne31 = TSNE(n_components=2, random_state=42, perplexity=30)\n",
    "a_tsne31 = tsne31.fit_transform(tob_X_oversampled)\n",
    "\n",
    "tsne41 = TSNE(n_components=2, random_state=42, perplexity=100)\n",
    "a_tsne41 = tsne41.fit_transform(tob_X_oversampled)"
   ]
  },
  {
   "cell_type": "code",
   "execution_count": null,
   "metadata": {},
   "outputs": [],
   "source": [
    "import seaborn as sns\n",
    "\n",
    "plt.figure(figsize=(10,10))\n",
    "# plt.subplots(2,2, figsize=(15,15))\n",
    "\n",
    "# plt.subplot(221)\n",
    "# sns.scatterplot(x=a_tsne11[:, 0], y=a_tsne11[:,1], s=10, marker='o', color='orange')\n",
    "# plt.legend(['Perplexity: 5'], prop={'size': 10})\n",
    "\n",
    "# plt.subplot(222)\n",
    "# sns.scatterplot(x=a_tsne21[:, 0], y=a_tsne21[:,1], s=10, marker='o', color='orange')\n",
    "# plt.legend(['Perplexity: 10'])\n",
    "\n",
    "# plt.subplot(223)\n",
    "# sns.scatterplot(x=a_tsne31[:, 0], y=a_tsne31[:,1], s=10, marker='o', color='orange')\n",
    "# plt.legend(['Perplexity: 30'])\n",
    "plt.ylabel('t-SNE Component 2', loc='center')\n",
    "plt.xlabel('t-SNE Component 1', loc='center')\n",
    "\n",
    "# plt.subplot(224)\n",
    "# sns.scatterplot(x=a_tsne41[:, 0], y=a_tsne41[:,1], s=10, marker='o', color='orange')\n",
    "# plt.legend(['Perplexity: 100'])\n",
    "\n",
    "# plt.subplot(221)\n",
    "sns.scatterplot(x=a_tsne1[:, 0], y=a_tsne1[:,1], s=10, marker='o')\n",
    "\n",
    "# plt.subplot(222)\n",
    "# sns.scatterplot(x=a_tsne2[:, 0], y=a_tsne2[:,1], s=10, marker='o')\n",
    "\n",
    "# plt.subplot(223)\n",
    "# sns.scatterplot(x=a_tsne3[:, 0], y=a_tsne3[:,1], s=10, marker='o')\n",
    "\n",
    "# plt.subplot(224)\n",
    "# sns.scatterplot(x=a_tsne4[:, 0], y=a_tsne4[:,1], s=10, marker='o')\n",
    "\n",
    "plt.suptitle('\\n\\nt-SNEs of Tobramycin Dataset', fontsize=15)\n",
    "# plt.subplots_adjust();\n"
   ]
  },
  {
   "cell_type": "markdown",
   "metadata": {},
   "source": [
    "# Algorithm testing"
   ]
  },
  {
   "cell_type": "markdown",
   "metadata": {},
   "source": [
    "Random Forest"
   ]
  },
  {
   "cell_type": "code",
   "execution_count": 25,
   "metadata": {},
   "outputs": [
    {
     "name": "stdout",
     "output_type": "stream",
     "text": [
      "Tobramycin:\n",
      "Accuracy: 0.8968092328581126\n",
      "              precision    recall  f1-score   support\n",
      "\n",
      "         0.0       0.95      0.94      0.95      1391\n",
      "         1.0       0.10      0.11      0.11        82\n",
      "\n",
      "    accuracy                           0.90      1473\n",
      "   macro avg       0.52      0.53      0.53      1473\n",
      "weighted avg       0.90      0.90      0.90      1473\n",
      "\n",
      "MCC: 0.051235634842755416\n",
      "ROC-AUC: 0.6231\n",
      "\n",
      "Colistin:\n",
      "Accuracy: 0.8129797627355199\n",
      "              precision    recall  f1-score   support\n",
      "\n",
      "         0.0       0.92      0.86      0.89      1294\n",
      "         1.0       0.21      0.34      0.26       139\n",
      "\n",
      "    accuracy                           0.81      1433\n",
      "   macro avg       0.57      0.60      0.58      1433\n",
      "weighted avg       0.85      0.81      0.83      1433\n",
      "\n",
      "MCC: 0.16501846686533986\n",
      "ROC-AUC: 0.6917\n"
     ]
    }
   ],
   "source": [
    "# tobramycin\n",
    "\n",
    "tob_model = rfc(n_estimators=1000, max_depth=10, random_state=42)\n",
    "tob_model.fit(tob_X_oversampled, tob_y_oversampled)\n",
    "\n",
    "tob_y_pred = tob_model.predict(tob_X_test)\n",
    "print('Tobramycin:')\n",
    "print(\"Accuracy:\", accuracy_score(tob_y_test, tob_y_pred));\n",
    "print(classification_report(tob_y_test, tob_y_pred, zero_division=True))\n",
    "\n",
    "tob_mcc = matthews_corrcoef(tob_y_test, tob_y_pred)\n",
    "print('MCC:', tob_mcc)\n",
    "\n",
    "tob_y_prob_pred = tob_model.predict_proba(tob_X_test)[:,1] # probability for class 1 (active)\n",
    "print(f'ROC-AUC: {roc_auc_score(tob_y_test, tob_y_prob_pred):.4f}')\n",
    "\n",
    "\n",
    "# colistin\n",
    "col_model = rfc(n_estimators=1000, max_depth=10, random_state=42)\n",
    "col_model.fit(col_X_oversampled, col_y_oversampled)\n",
    "\n",
    "col_y_pred = col_model.predict(col_X_test)\n",
    "print('\\nColistin:')\n",
    "print(\"Accuracy:\", accuracy_score(col_y_test, col_y_pred));\n",
    "print(classification_report(col_y_test, col_y_pred, zero_division=True))\n",
    "\n",
    "col_mcc = matthews_corrcoef(col_y_test, col_y_pred)\n",
    "print('MCC:', col_mcc)\n",
    "\n",
    "col_y_prob_pred = col_model.predict_proba(col_X_test)[:,1] # probability for class 1 (active)\n",
    "print(f'ROC-AUC: {roc_auc_score(col_y_test, col_y_prob_pred):.4f}')\n"
   ]
  },
  {
   "cell_type": "markdown",
   "metadata": {},
   "source": [
    "Logistic Regression"
   ]
  },
  {
   "cell_type": "code",
   "execution_count": 31,
   "metadata": {},
   "outputs": [
    {
     "name": "stdout",
     "output_type": "stream",
     "text": [
      "Tobramycin\n",
      "Accuracy: 0.5261371350984385\n",
      "              precision    recall  f1-score   support\n",
      "\n",
      "         0.0       0.96      0.52      0.67      1391\n",
      "         1.0       0.07      0.63      0.13        82\n",
      "\n",
      "    accuracy                           0.53      1473\n",
      "   macro avg       0.52      0.58      0.40      1473\n",
      "weighted avg       0.91      0.53      0.64      1473\n",
      "\n",
      "MCC: 0.07059782878631787\n",
      "ROC-AUC: 0.6126\n",
      "\n",
      "Colistin\n",
      "Accuracy: 0.6643405443126309\n",
      "              precision    recall  f1-score   support\n",
      "\n",
      "         0.0       0.95      0.66      0.78      1294\n",
      "         1.0       0.17      0.66      0.28       139\n",
      "\n",
      "    accuracy                           0.66      1433\n",
      "   macro avg       0.56      0.66      0.53      1433\n",
      "weighted avg       0.87      0.66      0.73      1433\n",
      "\n",
      "MCC: 0.20046095028631017\n",
      "ROC-AUC: 0.7151\n"
     ]
    }
   ],
   "source": [
    "from sklearn.linear_model import LogisticRegression\n",
    "\n",
    "# tobramycin\n",
    "\n",
    "tob_LR_model = LogisticRegression(max_iter=10000)\n",
    "tob_LR_model.fit(tob_X_oversampled, tob_y_oversampled)\n",
    "\n",
    "tob_y_pred_LR = tob_LR_model.predict(tob_X_test)\n",
    "print('Tobramycin')\n",
    "print(\"Accuracy:\", accuracy_score(tob_y_test, tob_y_pred_LR));\n",
    "print(classification_report(tob_y_test, tob_y_pred_LR, zero_division=True))\n",
    "\n",
    "tob_LR_mcc = matthews_corrcoef(tob_y_test, tob_y_pred_LR)\n",
    "print('MCC:', tob_LR_mcc)\n",
    "\n",
    "tob_y_prob_pred_LR = tob_LR_model.predict_proba(tob_X_test)[:,1] # probability for class 1 (active)\n",
    "print(f'ROC-AUC: {roc_auc_score(tob_y_test, tob_y_prob_pred_LR):.4f}')\n",
    "\n",
    "\n",
    "# colistin\n",
    "\n",
    "col_LR_model = LogisticRegression(max_iter=10000)\n",
    "col_LR_model.fit(col_X_oversampled, col_y_oversampled)\n",
    "\n",
    "col_y_pred_LR = col_LR_model.predict(col_X_test)\n",
    "print('\\nColistin')\n",
    "print('Accuracy:', accuracy_score(col_y_test, col_y_pred_LR))\n",
    "print(classification_report(col_y_test, col_y_pred_LR))\n",
    "\n",
    "col_LR_mcc = matthews_corrcoef(col_y_test, col_y_pred_LR)\n",
    "print('MCC:', col_LR_mcc)\n",
    "\n",
    "col_y_prob_pred_LR = col_LR_model.predict_proba(col_X_test)[:,1] # probability for class 1 (active)\n",
    "print(f'ROC-AUC: {roc_auc_score(col_y_test, col_y_prob_pred_LR):.4f}')\n"
   ]
  },
  {
   "cell_type": "markdown",
   "metadata": {},
   "source": [
    "KNeighbours Classifier"
   ]
  },
  {
   "cell_type": "code",
   "execution_count": 36,
   "metadata": {},
   "outputs": [
    {
     "name": "stdout",
     "output_type": "stream",
     "text": [
      "Tobramycin\n",
      "Accuracy: 0.7257298031228785\n",
      "              precision    recall  f1-score   support\n",
      "\n",
      "         0.0       0.94      0.76      0.84      1391\n",
      "         1.0       0.05      0.22      0.08        82\n",
      "\n",
      "    accuracy                           0.73      1473\n",
      "   macro avg       0.50      0.49      0.46      1473\n",
      "weighted avg       0.89      0.73      0.80      1473\n",
      "\n",
      "MCC: -0.013319092509819629\n",
      "ROC-AUC: 0.5206\n",
      "Colistin\n",
      "Accuracy: 0.6727145847871598\n",
      "              precision    recall  f1-score   support\n",
      "\n",
      "         0.0       0.92      0.69      0.79      1294\n",
      "         1.0       0.14      0.47      0.22       139\n",
      "\n",
      "    accuracy                           0.67      1433\n",
      "   macro avg       0.53      0.58      0.51      1433\n",
      "weighted avg       0.85      0.67      0.74      1433\n",
      "\n",
      "MCC: 0.10293127119208735\n",
      "ROC-AUC: 0.5985\n"
     ]
    }
   ],
   "source": [
    "from sklearn.neighbors import KNeighborsClassifier\n",
    "\n",
    "# tobramycin\n",
    "\n",
    "tob_KNN_model = KNeighborsClassifier(n_neighbors=10)\n",
    "tob_KNN_model.fit(tob_X_oversampled, tob_y_oversampled)\n",
    "\n",
    "tob_y_pred_KNN = tob_KNN_model.predict(tob_X_test)\n",
    "print('Tobramycin')\n",
    "print('Accuracy:', accuracy_score(tob_y_test, tob_y_pred_KNN))\n",
    "print(classification_report(tob_y_test, tob_y_pred_KNN))\n",
    "\n",
    "tob_KNN_mcc = matthews_corrcoef(tob_y_test, tob_y_pred_KNN)\n",
    "print('MCC:', tob_KNN_mcc)\n",
    "\n",
    "tob_y_prob_pred_KNN = tob_KNN_model.predict_proba(tob_X_test)[:,1] # probability for class 1 (active)\n",
    "print(f'ROC-AUC: {roc_auc_score(tob_y_test, tob_y_prob_pred_KNN):.4f}')\n",
    "\n",
    "\n",
    "# colistin\n",
    "\n",
    "col_KNN_model = KNeighborsClassifier(n_neighbors=10)\n",
    "col_KNN_model.fit(col_X_oversampled, col_y_oversampled)\n",
    "\n",
    "col_y_pred_KNN = col_KNN_model.predict(col_X_test)\n",
    "print('Colistin')\n",
    "print('Accuracy:', accuracy_score(col_y_test, col_y_pred_KNN))\n",
    "print(classification_report(col_y_test, col_y_pred_KNN))\n",
    "\n",
    "col_KNN_mcc = matthews_corrcoef(col_y_test, col_y_pred_KNN)\n",
    "print('MCC:', col_KNN_mcc)\n",
    "\n",
    "col_y_prob_pred_KNN = col_KNN_model.predict_proba(col_X_test)[:,1] # probability for class 1 (active)\n",
    "print(f'ROC-AUC: {roc_auc_score(col_y_test, col_y_prob_pred_KNN):.4f}')\n"
   ]
  },
  {
   "cell_type": "markdown",
   "metadata": {},
   "source": [
    "Support Vector Classification"
   ]
  },
  {
   "cell_type": "code",
   "execution_count": 12,
   "metadata": {},
   "outputs": [
    {
     "name": "stdout",
     "output_type": "stream",
     "text": [
      "Colistin\n",
      "Accuracy: 0.49406838799720865\n",
      "              precision    recall  f1-score   support\n",
      "\n",
      "         0.0       0.91      0.49      0.63      1294\n",
      "         1.0       0.11      0.56      0.18       139\n",
      "\n",
      "    accuracy                           0.49      1433\n",
      "   macro avg       0.51      0.52      0.41      1433\n",
      "weighted avg       0.83      0.49      0.59      1433\n",
      "\n",
      "MCC: 0.028437873567189846\n"
     ]
    }
   ],
   "source": [
    "from sklearn.svm import SVC\n",
    "\n",
    "# # tobramycin\n",
    "\n",
    "# tob_svm_model = SVC(kernel='sigmoid')\n",
    "# tob_svm_model.fit(tob_X_oversampled, tob_y_oversampled)\n",
    "\n",
    "# tob_y_pred_svm = tob_svm_model.predict(tob_X_test)\n",
    "# print('Tobramycin')\n",
    "# print('Accuracy:', accuracy_score(tob_y_test, tob_y_pred_svm))\n",
    "# print(classification_report(tob_y_test, tob_y_pred_svm))\n",
    "\n",
    "# tob_svm_mcc = matthews_corrcoef(tob_y_test, tob_y_pred_svm)\n",
    "# print('MCC:', tob_svm_mcc)\n",
    "\n",
    "# colistin\n",
    "\n",
    "col_svm_model = SVC(kernel='sigmoid')\n",
    "col_svm_model.fit(col_X_oversampled, col_y_oversampled)\n",
    "\n",
    "col_y_pred_svm = col_svm_model.predict(col_X_test)\n",
    "print('Colistin')\n",
    "print('Accuracy:', accuracy_score(col_y_test, col_y_pred_svm))\n",
    "print(classification_report(col_y_test, col_y_pred_svm))\n",
    "\n",
    "col_svm_mcc = matthews_corrcoef(col_y_test, col_y_pred_svm)\n",
    "print('MCC:', col_svm_mcc)"
   ]
  },
  {
   "cell_type": "markdown",
   "metadata": {},
   "source": [
    "Decision Tree Classifier"
   ]
  },
  {
   "cell_type": "code",
   "execution_count": 37,
   "metadata": {},
   "outputs": [
    {
     "name": "stdout",
     "output_type": "stream",
     "text": [
      "Tobramycin\n",
      "Accuracy: 0.8995247793618466\n",
      "              precision    recall  f1-score   support\n",
      "\n",
      "         0.0       0.95      0.94      0.95      1391\n",
      "         1.0       0.12      0.13      0.13        82\n",
      "\n",
      "    accuracy                           0.90      1473\n",
      "   macro avg       0.54      0.54      0.54      1473\n",
      "weighted avg       0.90      0.90      0.90      1473\n",
      "\n",
      "MCC: 0.07622159416186773\n",
      "ROC-AUC: 0.5394\n",
      "Colistin\n",
      "Accuracy: 0.845778087927425\n",
      "              precision    recall  f1-score   support\n",
      "\n",
      "         0.0       0.91      0.92      0.91      1294\n",
      "         1.0       0.18      0.17      0.18       139\n",
      "\n",
      "    accuracy                           0.85      1433\n",
      "   macro avg       0.55      0.55      0.55      1433\n",
      "weighted avg       0.84      0.85      0.84      1433\n",
      "\n",
      "MCC: 0.09350933128226971\n",
      "ROC-AUC: 0.5456\n"
     ]
    }
   ],
   "source": [
    "from sklearn.tree import DecisionTreeClassifier\n",
    "\n",
    "# tobramycin\n",
    "\n",
    "tob_tree_model = DecisionTreeClassifier(max_depth=100)\n",
    "tob_tree_model.fit(tob_X_oversampled, tob_y_oversampled)\n",
    "\n",
    "tob_y_pred_tree = tob_tree_model.predict(tob_X_test)\n",
    "print('Tobramycin')\n",
    "print('Accuracy:', accuracy_score(tob_y_test, tob_y_pred_tree))\n",
    "print(classification_report(tob_y_test, tob_y_pred_tree))\n",
    "\n",
    "tob_tree_mcc = matthews_corrcoef(tob_y_test, tob_y_pred_tree)\n",
    "print('MCC:', tob_tree_mcc)\n",
    "\n",
    "tob_y_prob_pred_tree = tob_tree_model.predict_proba(tob_X_test)[:,1] # probability for class 1 (active)\n",
    "print(f'ROC-AUC: {roc_auc_score(tob_y_test, tob_y_prob_pred_tree):.4f}')\n",
    "\n",
    "# colistin\n",
    "\n",
    "col_tree_model = DecisionTreeClassifier(max_depth=100)\n",
    "col_tree_model.fit(col_X_oversampled, col_y_oversampled)\n",
    "\n",
    "col_y_pred_tree = col_tree_model.predict(col_X_test)\n",
    "print('Colistin')\n",
    "print('Accuracy:', accuracy_score(col_y_test, col_y_pred_tree))\n",
    "print(classification_report(col_y_test, col_y_pred_tree))\n",
    "\n",
    "col_tree_mcc = matthews_corrcoef(col_y_test, col_y_pred_tree)\n",
    "print('MCC:', col_tree_mcc)\n",
    "\n",
    "col_y_prob_pred_tree = col_tree_model.predict_proba(col_X_test)[:,1] # probability for class 1 (active)\n",
    "print(f'ROC-AUC: {roc_auc_score(col_y_test, col_y_prob_pred_tree):.4f}')\n"
   ]
  },
  {
   "cell_type": "markdown",
   "metadata": {},
   "source": [
    "Naive Bayes"
   ]
  },
  {
   "cell_type": "code",
   "execution_count": 38,
   "metadata": {},
   "outputs": [
    {
     "name": "stdout",
     "output_type": "stream",
     "text": [
      "Tobramycin\n",
      "Accuracy: 0.6401900882552614\n",
      "              precision    recall  f1-score   support\n",
      "\n",
      "         0.0       0.96      0.65      0.77      1391\n",
      "         1.0       0.08      0.51      0.14        82\n",
      "\n",
      "    accuracy                           0.64      1473\n",
      "   macro avg       0.52      0.58      0.45      1473\n",
      "weighted avg       0.91      0.64      0.74      1473\n",
      "\n",
      "MCC: 0.07633985528604799\n",
      "ROC-AUC: 0.6194\n",
      "Colistin\n",
      "Accuracy: 0.6008374040474529\n",
      "              precision    recall  f1-score   support\n",
      "\n",
      "         0.0       0.95      0.59      0.73      1294\n",
      "         1.0       0.15      0.68      0.25       139\n",
      "\n",
      "    accuracy                           0.60      1433\n",
      "   macro avg       0.55      0.64      0.49      1433\n",
      "weighted avg       0.87      0.60      0.68      1433\n",
      "\n",
      "MCC: 0.16442861464109568\n",
      "ROC-AUC: 0.6772\n"
     ]
    }
   ],
   "source": [
    "from sklearn.naive_bayes import GaussianNB\n",
    "\n",
    "# tobramycin\n",
    "\n",
    "tob_nb = GaussianNB()\n",
    "tob_nb.fit(tob_X_oversampled, tob_y_oversampled)\n",
    "\n",
    "tob_y_pred_nb = tob_nb.predict(tob_X_test)\n",
    "print('Tobramycin')\n",
    "print('Accuracy:', accuracy_score(tob_y_test, tob_y_pred_nb))\n",
    "print(classification_report(tob_y_test, tob_y_pred_nb))\n",
    "\n",
    "tob_nb_mcc = matthews_corrcoef(tob_y_test, tob_y_pred_nb)\n",
    "print('MCC:', tob_nb_mcc)\n",
    "\n",
    "tob_y_prob_pred_nb = tob_nb.predict_proba(tob_X_test)[:,1] # probability for class 1 (active)\n",
    "print(f'ROC-AUC: {roc_auc_score(tob_y_test, tob_y_prob_pred_nb):.4f}')\n",
    "\n",
    "# colistin\n",
    "\n",
    "col_nb = GaussianNB()\n",
    "col_nb.fit(col_X_oversampled, col_y_oversampled)\n",
    "\n",
    "col_y_pred_nb = col_nb.predict(col_X_test)\n",
    "print('Colistin')\n",
    "print(\"Accuracy:\", accuracy_score(col_y_test, col_y_pred_nb))\n",
    "print(classification_report(col_y_test, col_y_pred_nb))\n",
    "\n",
    "col_nb_mcc = matthews_corrcoef(col_y_test, col_y_pred_nb)\n",
    "print('MCC:', col_nb_mcc)\n",
    "\n",
    "col_y_prob_pred_nb = col_nb.predict_proba(col_X_test)[:,1] # probability for class 1 (active)\n",
    "print(f'ROC-AUC: {roc_auc_score(col_y_test, col_y_prob_pred_nb):.4f}')\n"
   ]
  },
  {
   "cell_type": "markdown",
   "metadata": {},
   "source": [
    "Gradient Boosting Classifier"
   ]
  },
  {
   "cell_type": "code",
   "execution_count": 39,
   "metadata": {},
   "outputs": [
    {
     "name": "stdout",
     "output_type": "stream",
     "text": [
      "Tobramycin\n",
      "Accuracy: 0.7542430414120842\n",
      "              precision    recall  f1-score   support\n",
      "\n",
      "         0.0       0.95      0.78      0.86      1391\n",
      "         1.0       0.09      0.38      0.15        82\n",
      "\n",
      "    accuracy                           0.75      1473\n",
      "   macro avg       0.52      0.58      0.50      1473\n",
      "weighted avg       0.91      0.75      0.82      1473\n",
      "\n",
      "MCC 0.08388154264756088\n",
      "ROC-AUC: 0.6224\n",
      "Colistin\n",
      "Accuracy: 0.7292393579902303\n",
      "              precision    recall  f1-score   support\n",
      "\n",
      "         0.0       0.93      0.76      0.83      1294\n",
      "         1.0       0.17      0.47      0.25       139\n",
      "\n",
      "    accuracy                           0.73      1433\n",
      "   macro avg       0.55      0.61      0.54      1433\n",
      "weighted avg       0.86      0.73      0.78      1433\n",
      "\n",
      "MCC: 0.15095738473786507\n",
      "ROC-AUC: 0.6917\n"
     ]
    }
   ],
   "source": [
    "from sklearn.ensemble import GradientBoostingClassifier\n",
    "\n",
    "# tobramycin\n",
    "\n",
    "tob_gb = GradientBoostingClassifier(n_estimators=1000, learning_rate=1.0, max_depth=1, random_state=42)\n",
    "tob_gb.fit(tob_X_oversampled, tob_y_oversampled)\n",
    "tob_y_pred_gb = tob_gb.predict(tob_X_test)\n",
    "\n",
    "print('Tobramycin')\n",
    "print('Accuracy:', accuracy_score(tob_y_test, tob_y_pred_gb))\n",
    "print(classification_report(tob_y_test, tob_y_pred_gb))\n",
    "\n",
    "tob_gb_mcc = matthews_corrcoef(tob_y_test, tob_y_pred_gb)\n",
    "print('MCC', tob_gb_mcc)\n",
    "\n",
    "tob_y_prob_pred_gb = tob_gb.predict_proba(tob_X_test)[:,1] # probability for class 1 (active)\n",
    "print(f'ROC-AUC: {roc_auc_score(tob_y_test, tob_y_prob_pred_gb):.4f}')\n",
    "\n",
    "\n",
    "# colistin\n",
    "\n",
    "col_gb = GradientBoostingClassifier(n_estimators=1000, learning_rate=1.0, max_depth=1, random_state=42)\n",
    "col_gb.fit(col_X_oversampled, col_y_oversampled)\n",
    "col_y_pred_gb = col_gb.predict(col_X_test)\n",
    "print('Colistin')\n",
    "print(\"Accuracy:\", accuracy_score(col_y_test, col_y_pred_gb))\n",
    "print(classification_report(col_y_test, col_y_pred_gb))\n",
    "\n",
    "col_gb_mcc = matthews_corrcoef(col_y_test, col_y_pred_gb)\n",
    "print('MCC:', col_gb_mcc)\n",
    "\n",
    "col_y_prob_pred_gb = col_gb.predict_proba(col_X_test)[:,1] # probability for class 1 (active)\n",
    "print(f'ROC-AUC: {roc_auc_score(col_y_test, col_y_prob_pred):.4f}')\n"
   ]
  }
 ],
 "metadata": {
  "kernelspec": {
   "display_name": "imblearn",
   "language": "python",
   "name": "python3"
  },
  "language_info": {
   "codemirror_mode": {
    "name": "ipython",
    "version": 3
   },
   "file_extension": ".py",
   "mimetype": "text/x-python",
   "name": "python",
   "nbconvert_exporter": "python",
   "pygments_lexer": "ipython3",
   "version": "3.12.3"
  }
 },
 "nbformat": 4,
 "nbformat_minor": 2
}
