{
 "cells": [
  {
   "cell_type": "code",
   "execution_count": 1,
   "metadata": {},
   "outputs": [],
   "source": [
    "# relevant imports\n",
    "\n",
    "from optunaz.three_step_opt_build_merge import (\n",
    "    optimize,\n",
    "    buildconfig_best,\n",
    "    build_best,\n",
    "    build_merged,\n",
    ")\n",
    "from optunaz.config import ModelMode, OptimizationDirection\n",
    "from optunaz.config.optconfig import RandomForestClassifier, KNeighborsClassifier, LogisticRegression, ChemPropClassifier\n",
    "from optunaz.config.optconfig import OptimizationConfig\n",
    "from optunaz.datareader import Dataset\n",
    "from optunaz.descriptors import ECFP, MACCS_keys, ECFP_counts, PathFP\n",
    "import pickle\n",
    "\n",
    "# hyperparameter optimisation\n",
    "\n",
    "config = OptimizationConfig(\n",
    "    data=Dataset(\n",
    "        input_column=\"Structure\", # to be predicted from ie input SMILES -> get predicted activity eg\n",
    "        response_column=\"Class\", # to be predicted\n",
    "        training_dataset_file=\"M:/ML_scripts/notebooks/tobramycin_undersampled_train.csv\", # file containing training data\n",
    "        test_dataset_file=\"M:/ML_scripts/notebooks/tobramycin_undersampled_test.csv\"), # hidden during optimisation\n",
    "    descriptors=[ECFP.new(), MACCS_keys.new(), PathFP.new()], # QSARtuna also has internal physchem descriptors\n",
    "    algorithms=[RandomForestClassifier.new(\n",
    "                n_estimators=RandomForestClassifier.Parameters.RandomForestClassifierParametersNEstimators(\n",
    "                    low=10, high=100\n",
    "                )\n",
    "        ), KNeighborsClassifier.new(), LogisticRegression.new(), ChemPropClassifier.new()\n",
    "    ],\n",
    "    settings=OptimizationConfig.Settings(\n",
    "        mode=ModelMode.CLASSIFICATION,\n",
    "        cross_validation=5, # number of splits into 'mini' train/test sets for validation\n",
    "        n_trials=100, # number of optimisation trials for hyperparameter optimisation\n",
    "        n_startup_trials=40, # number of initial, exploratory, random trials (no optimisation in those trials)\n",
    "        n_jobs=-1, # number of parallel jobs, set to -1 to use as many CPU cores available\n",
    "        direction=OptimizationDirection.MAXIMIZATION, \n",
    "        random_seed=42, # seed for reproducibility\n",
    "    ),\n",
    ")"
   ]
  },
  {
   "cell_type": "code",
   "execution_count": 2,
   "metadata": {},
   "outputs": [
    {
     "name": "stderr",
     "output_type": "stream",
     "text": [
      "[I 2025-01-27 09:55:17,153] A new study created in memory with name: run1\n",
      "[I 2025-01-27 09:55:17,308] A new study created in memory with name: study_name_0\n",
      "[I 2025-01-27 09:55:18,923] Trial 0 finished with value: 0.6465952800543215 and parameters: {'algorithm_name': 'KNeighborsClassifier', 'KNeighborsClassifier_algorithm_hash': 'e51ca55089f389fc37a736adb2aa0e42', 'metric__e51ca55089f389fc37a736adb2aa0e42': <KNeighborsMetric.MINKOWSKI: 'minkowski'>, 'n_neighbors__e51ca55089f389fc37a736adb2aa0e42': 6, 'weights__e51ca55089f389fc37a736adb2aa0e42': <KNeighborsWeights.UNIFORM: 'uniform'>, 'descriptor': '{\"name\": \"ECFP\", \"parameters\": {\"radius\": 3, \"nBits\": 2048, \"returnRdkit\": false}}'}. Best is trial 0 with value: 0.6465952800543215.\n",
      "[I 2025-01-27 09:55:19,502] Trial 1 finished with value: 0.6326620314734288 and parameters: {'algorithm_name': 'RandomForestClassifier', 'RandomForestClassifier_algorithm_hash': '81728f5b173c58aa046e6327faa7c4b5', 'max_depth__81728f5b173c58aa046e6327faa7c4b5': 2, 'n_estimators__81728f5b173c58aa046e6327faa7c4b5': 98, 'max_features__81728f5b173c58aa046e6327faa7c4b5': <RandomForestMaxFeatures.AUTO: 'auto'>, 'descriptor': '{\"name\": \"ECFP\", \"parameters\": {\"radius\": 3, \"nBits\": 2048, \"returnRdkit\": false}}'}. Best is trial 0 with value: 0.6465952800543215.\n",
      "[I 2025-01-27 09:55:21,077] Trial 2 finished with value: 0.49487828860865263 and parameters: {'algorithm_name': 'LogisticRegression', 'LogisticRegression_algorithm_hash': '8908f22fafa8a855aeb58e3dc9f9ce8e', 'solver__8908f22fafa8a855aeb58e3dc9f9ce8e': 'sag', 'C__8908f22fafa8a855aeb58e3dc9f9ce8e': 1.0, 'descriptor': '{\"name\": \"PathFP\", \"parameters\": {\"maxPath\": 3, \"fpSize\": 2048}}'}. Best is trial 0 with value: 0.6465952800543215.\n",
      "[I 2025-01-27 09:55:21,514] Trial 3 finished with value: 0.6595327164541944 and parameters: {'algorithm_name': 'RandomForestClassifier', 'RandomForestClassifier_algorithm_hash': '81728f5b173c58aa046e6327faa7c4b5', 'max_depth__81728f5b173c58aa046e6327faa7c4b5': 20, 'n_estimators__81728f5b173c58aa046e6327faa7c4b5': 14, 'max_features__81728f5b173c58aa046e6327faa7c4b5': <RandomForestMaxFeatures.AUTO: 'auto'>, 'descriptor': '{\"name\": \"ECFP\", \"parameters\": {\"radius\": 3, \"nBits\": 2048, \"returnRdkit\": false}}'}. Best is trial 3 with value: 0.6595327164541944.\n",
      "[I 2025-01-27 09:55:22,814] Trial 4 finished with value: 0.5504615683802662 and parameters: {'algorithm_name': 'KNeighborsClassifier', 'KNeighborsClassifier_algorithm_hash': 'e51ca55089f389fc37a736adb2aa0e42', 'metric__e51ca55089f389fc37a736adb2aa0e42': <KNeighborsMetric.MINKOWSKI: 'minkowski'>, 'n_neighbors__e51ca55089f389fc37a736adb2aa0e42': 4, 'weights__e51ca55089f389fc37a736adb2aa0e42': <KNeighborsWeights.UNIFORM: 'uniform'>, 'descriptor': '{\"name\": \"MACCS_keys\", \"parameters\": {}}'}. Best is trial 3 with value: 0.6595327164541944.\n",
      "[I 2025-01-27 09:55:23,100] Trial 5 finished with value: 0.5663154155350739 and parameters: {'algorithm_name': 'KNeighborsClassifier', 'KNeighborsClassifier_algorithm_hash': 'e51ca55089f389fc37a736adb2aa0e42', 'metric__e51ca55089f389fc37a736adb2aa0e42': <KNeighborsMetric.MINKOWSKI: 'minkowski'>, 'n_neighbors__e51ca55089f389fc37a736adb2aa0e42': 10, 'weights__e51ca55089f389fc37a736adb2aa0e42': <KNeighborsWeights.UNIFORM: 'uniform'>, 'descriptor': '{\"name\": \"MACCS_keys\", \"parameters\": {}}'}. Best is trial 3 with value: 0.6595327164541944.\n",
      "[I 2025-01-27 09:55:23,105] Trial 6 pruned. Duplicate parameter set\n"
     ]
    },
    {
     "name": "stdout",
     "output_type": "stream",
     "text": [
      "Duplicated trial: {'algorithm_name': 'KNeighborsClassifier', 'KNeighborsClassifier_algorithm_hash': 'e51ca55089f389fc37a736adb2aa0e42', 'metric__e51ca55089f389fc37a736adb2aa0e42': <KNeighborsMetric.MINKOWSKI: 'minkowski'>, 'n_neighbors__e51ca55089f389fc37a736adb2aa0e42': 10, 'weights__e51ca55089f389fc37a736adb2aa0e42': <KNeighborsWeights.UNIFORM: 'uniform'>, 'descriptor': '{\"name\": \"MACCS_keys\", \"parameters\": {}}'}, return [0.5663154155350739]\n"
     ]
    },
    {
     "name": "stderr",
     "output_type": "stream",
     "text": [
      "[I 2025-01-27 09:55:23,711] Trial 7 finished with value: 0.5407329684953791 and parameters: {'algorithm_name': 'KNeighborsClassifier', 'KNeighborsClassifier_algorithm_hash': 'e51ca55089f389fc37a736adb2aa0e42', 'metric__e51ca55089f389fc37a736adb2aa0e42': <KNeighborsMetric.MINKOWSKI: 'minkowski'>, 'n_neighbors__e51ca55089f389fc37a736adb2aa0e42': 2, 'weights__e51ca55089f389fc37a736adb2aa0e42': <KNeighborsWeights.UNIFORM: 'uniform'>, 'descriptor': '{\"name\": \"PathFP\", \"parameters\": {\"maxPath\": 3, \"fpSize\": 2048}}'}. Best is trial 3 with value: 0.6595327164541944.\n",
      "[I 2025-01-27 09:55:24,289] Trial 8 finished with value: 0.556198274332163 and parameters: {'algorithm_name': 'KNeighborsClassifier', 'KNeighborsClassifier_algorithm_hash': 'e51ca55089f389fc37a736adb2aa0e42', 'metric__e51ca55089f389fc37a736adb2aa0e42': <KNeighborsMetric.MINKOWSKI: 'minkowski'>, 'n_neighbors__e51ca55089f389fc37a736adb2aa0e42': 3, 'weights__e51ca55089f389fc37a736adb2aa0e42': <KNeighborsWeights.UNIFORM: 'uniform'>, 'descriptor': '{\"name\": \"PathFP\", \"parameters\": {\"maxPath\": 3, \"fpSize\": 2048}}'}. Best is trial 3 with value: 0.6595327164541944.\n",
      "[I 2025-01-27 09:55:24,693] Trial 9 finished with value: 0.5340203071400793 and parameters: {'algorithm_name': 'KNeighborsClassifier', 'KNeighborsClassifier_algorithm_hash': 'e51ca55089f389fc37a736adb2aa0e42', 'metric__e51ca55089f389fc37a736adb2aa0e42': <KNeighborsMetric.MINKOWSKI: 'minkowski'>, 'n_neighbors__e51ca55089f389fc37a736adb2aa0e42': 2, 'weights__e51ca55089f389fc37a736adb2aa0e42': <KNeighborsWeights.UNIFORM: 'uniform'>, 'descriptor': '{\"name\": \"MACCS_keys\", \"parameters\": {}}'}. Best is trial 3 with value: 0.6595327164541944.\n",
      "[I 2025-01-27 09:55:24,698] Trial 10 pruned. Duplicate parameter set\n"
     ]
    },
    {
     "name": "stdout",
     "output_type": "stream",
     "text": [
      "Duplicated trial: {'algorithm_name': 'KNeighborsClassifier', 'KNeighborsClassifier_algorithm_hash': 'e51ca55089f389fc37a736adb2aa0e42', 'metric__e51ca55089f389fc37a736adb2aa0e42': <KNeighborsMetric.MINKOWSKI: 'minkowski'>, 'n_neighbors__e51ca55089f389fc37a736adb2aa0e42': 4, 'weights__e51ca55089f389fc37a736adb2aa0e42': <KNeighborsWeights.UNIFORM: 'uniform'>, 'descriptor': '{\"name\": \"MACCS_keys\", \"parameters\": {}}'}, return [0.5504615683802662]\n"
     ]
    },
    {
     "name": "stderr",
     "output_type": "stream",
     "text": [
      "[I 2025-01-27 09:55:25,318] Trial 11 finished with value: 0.6022605403260524 and parameters: {'algorithm_name': 'RandomForestClassifier', 'RandomForestClassifier_algorithm_hash': '81728f5b173c58aa046e6327faa7c4b5', 'max_depth__81728f5b173c58aa046e6327faa7c4b5': 12, 'n_estimators__81728f5b173c58aa046e6327faa7c4b5': 76, 'max_features__81728f5b173c58aa046e6327faa7c4b5': <RandomForestMaxFeatures.AUTO: 'auto'>, 'descriptor': '{\"name\": \"MACCS_keys\", \"parameters\": {}}'}. Best is trial 3 with value: 0.6595327164541944.\n",
      "[I 2025-01-27 09:55:25,535] Trial 12 finished with value: 0.6397594928697388 and parameters: {'algorithm_name': 'LogisticRegression', 'LogisticRegression_algorithm_hash': '8908f22fafa8a855aeb58e3dc9f9ce8e', 'solver__8908f22fafa8a855aeb58e3dc9f9ce8e': 'lbfgs', 'C__8908f22fafa8a855aeb58e3dc9f9ce8e': 1.0, 'descriptor': '{\"name\": \"ECFP\", \"parameters\": {\"radius\": 3, \"nBits\": 2048, \"returnRdkit\": false}}'}. Best is trial 3 with value: 0.6595327164541944.\n",
      "[I 2025-01-27 09:55:25,541] Trial 13 pruned. Duplicate parameter set\n"
     ]
    },
    {
     "name": "stdout",
     "output_type": "stream",
     "text": [
      "Duplicated trial: {'algorithm_name': 'KNeighborsClassifier', 'KNeighborsClassifier_algorithm_hash': 'e51ca55089f389fc37a736adb2aa0e42', 'metric__e51ca55089f389fc37a736adb2aa0e42': <KNeighborsMetric.MINKOWSKI: 'minkowski'>, 'n_neighbors__e51ca55089f389fc37a736adb2aa0e42': 6, 'weights__e51ca55089f389fc37a736adb2aa0e42': <KNeighborsWeights.UNIFORM: 'uniform'>, 'descriptor': '{\"name\": \"ECFP\", \"parameters\": {\"radius\": 3, \"nBits\": 2048, \"returnRdkit\": false}}'}, return [0.6465952800543215]\n"
     ]
    },
    {
     "name": "stderr",
     "output_type": "stream",
     "text": [
      "[I 2025-01-27 09:55:25,935] Trial 14 finished with value: 0.6670249135127893 and parameters: {'algorithm_name': 'RandomForestClassifier', 'RandomForestClassifier_algorithm_hash': '81728f5b173c58aa046e6327faa7c4b5', 'max_depth__81728f5b173c58aa046e6327faa7c4b5': 10, 'n_estimators__81728f5b173c58aa046e6327faa7c4b5': 24, 'max_features__81728f5b173c58aa046e6327faa7c4b5': <RandomForestMaxFeatures.AUTO: 'auto'>, 'descriptor': '{\"name\": \"ECFP\", \"parameters\": {\"radius\": 3, \"nBits\": 2048, \"returnRdkit\": false}}'}. Best is trial 14 with value: 0.6670249135127893.\n",
      "[I 2025-01-27 09:55:26,276] Trial 15 finished with value: 0.6023698968393871 and parameters: {'algorithm_name': 'RandomForestClassifier', 'RandomForestClassifier_algorithm_hash': '81728f5b173c58aa046e6327faa7c4b5', 'max_depth__81728f5b173c58aa046e6327faa7c4b5': 29, 'n_estimators__81728f5b173c58aa046e6327faa7c4b5': 59, 'max_features__81728f5b173c58aa046e6327faa7c4b5': <RandomForestMaxFeatures.AUTO: 'auto'>, 'descriptor': '{\"name\": \"MACCS_keys\", \"parameters\": {}}'}. Best is trial 14 with value: 0.6670249135127893.\n",
      "[I 2025-01-27 09:55:26,283] Trial 16 pruned. Duplicate parameter set\n"
     ]
    },
    {
     "name": "stdout",
     "output_type": "stream",
     "text": [
      "Duplicated trial: {'algorithm_name': 'LogisticRegression', 'LogisticRegression_algorithm_hash': '8908f22fafa8a855aeb58e3dc9f9ce8e', 'solver__8908f22fafa8a855aeb58e3dc9f9ce8e': 'lbfgs', 'C__8908f22fafa8a855aeb58e3dc9f9ce8e': 1.0, 'descriptor': '{\"name\": \"ECFP\", \"parameters\": {\"radius\": 3, \"nBits\": 2048, \"returnRdkit\": false}}'}, return [0.6397594928697388]\n"
     ]
    },
    {
     "name": "stderr",
     "output_type": "stream",
     "text": [
      "[I 2025-01-27 09:55:26,787] Trial 17 finished with value: 0.512960361594594 and parameters: {'algorithm_name': 'KNeighborsClassifier', 'KNeighborsClassifier_algorithm_hash': 'e51ca55089f389fc37a736adb2aa0e42', 'metric__e51ca55089f389fc37a736adb2aa0e42': <KNeighborsMetric.MINKOWSKI: 'minkowski'>, 'n_neighbors__e51ca55089f389fc37a736adb2aa0e42': 6, 'weights__e51ca55089f389fc37a736adb2aa0e42': <KNeighborsWeights.UNIFORM: 'uniform'>, 'descriptor': '{\"name\": \"PathFP\", \"parameters\": {\"maxPath\": 3, \"fpSize\": 2048}}'}. Best is trial 14 with value: 0.6670249135127893.\n",
      "[I 2025-01-27 09:55:27,100] Trial 18 finished with value: 0.6152854102054451 and parameters: {'algorithm_name': 'RandomForestClassifier', 'RandomForestClassifier_algorithm_hash': '81728f5b173c58aa046e6327faa7c4b5', 'max_depth__81728f5b173c58aa046e6327faa7c4b5': 11, 'n_estimators__81728f5b173c58aa046e6327faa7c4b5': 35, 'max_features__81728f5b173c58aa046e6327faa7c4b5': <RandomForestMaxFeatures.AUTO: 'auto'>, 'descriptor': '{\"name\": \"MACCS_keys\", \"parameters\": {}}'}. Best is trial 14 with value: 0.6670249135127893.\n",
      "[I 2025-01-27 09:55:27,554] Trial 19 finished with value: 0.4973096645831836 and parameters: {'algorithm_name': 'LogisticRegression', 'LogisticRegression_algorithm_hash': '8908f22fafa8a855aeb58e3dc9f9ce8e', 'solver__8908f22fafa8a855aeb58e3dc9f9ce8e': 'saga', 'C__8908f22fafa8a855aeb58e3dc9f9ce8e': 1.0, 'descriptor': '{\"name\": \"PathFP\", \"parameters\": {\"maxPath\": 3, \"fpSize\": 2048}}'}. Best is trial 14 with value: 0.6670249135127893.\n",
      "[I 2025-01-27 09:55:28,054] Trial 20 finished with value: 0.6378355409816721 and parameters: {'algorithm_name': 'KNeighborsClassifier', 'KNeighborsClassifier_algorithm_hash': 'e51ca55089f389fc37a736adb2aa0e42', 'metric__e51ca55089f389fc37a736adb2aa0e42': <KNeighborsMetric.MINKOWSKI: 'minkowski'>, 'n_neighbors__e51ca55089f389fc37a736adb2aa0e42': 7, 'weights__e51ca55089f389fc37a736adb2aa0e42': <KNeighborsWeights.UNIFORM: 'uniform'>, 'descriptor': '{\"name\": \"ECFP\", \"parameters\": {\"radius\": 3, \"nBits\": 2048, \"returnRdkit\": false}}'}. Best is trial 14 with value: 0.6670249135127893.\n",
      "[I 2025-01-27 09:55:28,443] Trial 21 finished with value: 0.6517283231187878 and parameters: {'algorithm_name': 'RandomForestClassifier', 'RandomForestClassifier_algorithm_hash': '81728f5b173c58aa046e6327faa7c4b5', 'max_depth__81728f5b173c58aa046e6327faa7c4b5': 3, 'n_estimators__81728f5b173c58aa046e6327faa7c4b5': 63, 'max_features__81728f5b173c58aa046e6327faa7c4b5': <RandomForestMaxFeatures.AUTO: 'auto'>, 'descriptor': '{\"name\": \"ECFP\", \"parameters\": {\"radius\": 3, \"nBits\": 2048, \"returnRdkit\": false}}'}. Best is trial 14 with value: 0.6670249135127893.\n",
      "[I 2025-01-27 09:55:28,674] Trial 22 finished with value: 0.561851275088461 and parameters: {'algorithm_name': 'KNeighborsClassifier', 'KNeighborsClassifier_algorithm_hash': 'e51ca55089f389fc37a736adb2aa0e42', 'metric__e51ca55089f389fc37a736adb2aa0e42': <KNeighborsMetric.MINKOWSKI: 'minkowski'>, 'n_neighbors__e51ca55089f389fc37a736adb2aa0e42': 7, 'weights__e51ca55089f389fc37a736adb2aa0e42': <KNeighborsWeights.UNIFORM: 'uniform'>, 'descriptor': '{\"name\": \"MACCS_keys\", \"parameters\": {}}'}. Best is trial 14 with value: 0.6670249135127893.\n",
      "[I 2025-01-27 09:55:28,940] Trial 23 finished with value: 0.6397671085134697 and parameters: {'algorithm_name': 'LogisticRegression', 'LogisticRegression_algorithm_hash': '8908f22fafa8a855aeb58e3dc9f9ce8e', 'solver__8908f22fafa8a855aeb58e3dc9f9ce8e': 'newton-cg', 'C__8908f22fafa8a855aeb58e3dc9f9ce8e': 1.0, 'descriptor': '{\"name\": \"ECFP\", \"parameters\": {\"radius\": 3, \"nBits\": 2048, \"returnRdkit\": false}}'}. Best is trial 14 with value: 0.6670249135127893.\n",
      "[I 2025-01-27 09:55:29,407] Trial 24 finished with value: 0.64163811191307 and parameters: {'algorithm_name': 'LogisticRegression', 'LogisticRegression_algorithm_hash': '8908f22fafa8a855aeb58e3dc9f9ce8e', 'solver__8908f22fafa8a855aeb58e3dc9f9ce8e': 'saga', 'C__8908f22fafa8a855aeb58e3dc9f9ce8e': 1.0, 'descriptor': '{\"name\": \"ECFP\", \"parameters\": {\"radius\": 3, \"nBits\": 2048, \"returnRdkit\": false}}'}. Best is trial 14 with value: 0.6670249135127893.\n",
      "[I 2025-01-27 09:55:29,831] Trial 25 finished with value: 0.5189370001416013 and parameters: {'algorithm_name': 'RandomForestClassifier', 'RandomForestClassifier_algorithm_hash': '81728f5b173c58aa046e6327faa7c4b5', 'max_depth__81728f5b173c58aa046e6327faa7c4b5': 29, 'n_estimators__81728f5b173c58aa046e6327faa7c4b5': 65, 'max_features__81728f5b173c58aa046e6327faa7c4b5': <RandomForestMaxFeatures.AUTO: 'auto'>, 'descriptor': '{\"name\": \"PathFP\", \"parameters\": {\"maxPath\": 3, \"fpSize\": 2048}}'}. Best is trial 14 with value: 0.6670249135127893.\n",
      "[I 2025-01-27 09:55:29,839] Trial 26 pruned. Duplicate parameter set\n"
     ]
    },
    {
     "name": "stdout",
     "output_type": "stream",
     "text": [
      "Duplicated trial: {'algorithm_name': 'LogisticRegression', 'LogisticRegression_algorithm_hash': '8908f22fafa8a855aeb58e3dc9f9ce8e', 'solver__8908f22fafa8a855aeb58e3dc9f9ce8e': 'saga', 'C__8908f22fafa8a855aeb58e3dc9f9ce8e': 1.0, 'descriptor': '{\"name\": \"PathFP\", \"parameters\": {\"maxPath\": 3, \"fpSize\": 2048}}'}, return [0.4973096645831836]\n"
     ]
    },
    {
     "name": "stderr",
     "output_type": "stream",
     "text": [
      "[I 2025-01-27 09:55:30,079] Trial 27 finished with value: 0.5596798859694294 and parameters: {'algorithm_name': 'KNeighborsClassifier', 'KNeighborsClassifier_algorithm_hash': 'e51ca55089f389fc37a736adb2aa0e42', 'metric__e51ca55089f389fc37a736adb2aa0e42': <KNeighborsMetric.MINKOWSKI: 'minkowski'>, 'n_neighbors__e51ca55089f389fc37a736adb2aa0e42': 6, 'weights__e51ca55089f389fc37a736adb2aa0e42': <KNeighborsWeights.UNIFORM: 'uniform'>, 'descriptor': '{\"name\": \"MACCS_keys\", \"parameters\": {}}'}. Best is trial 14 with value: 0.6670249135127893.\n",
      "[I 2025-01-27 09:55:30,327] Trial 28 finished with value: 0.5773975086214922 and parameters: {'algorithm_name': 'KNeighborsClassifier', 'KNeighborsClassifier_algorithm_hash': 'e51ca55089f389fc37a736adb2aa0e42', 'metric__e51ca55089f389fc37a736adb2aa0e42': <KNeighborsMetric.MINKOWSKI: 'minkowski'>, 'n_neighbors__e51ca55089f389fc37a736adb2aa0e42': 9, 'weights__e51ca55089f389fc37a736adb2aa0e42': <KNeighborsWeights.UNIFORM: 'uniform'>, 'descriptor': '{\"name\": \"MACCS_keys\", \"parameters\": {}}'}. Best is trial 14 with value: 0.6670249135127893.\n",
      "[I 2025-01-27 09:55:30,623] Trial 29 finished with value: 0.6041745229948601 and parameters: {'algorithm_name': 'RandomForestClassifier', 'RandomForestClassifier_algorithm_hash': '81728f5b173c58aa046e6327faa7c4b5', 'max_depth__81728f5b173c58aa046e6327faa7c4b5': 24, 'n_estimators__81728f5b173c58aa046e6327faa7c4b5': 35, 'max_features__81728f5b173c58aa046e6327faa7c4b5': <RandomForestMaxFeatures.AUTO: 'auto'>, 'descriptor': '{\"name\": \"MACCS_keys\", \"parameters\": {}}'}. Best is trial 14 with value: 0.6670249135127893.\n",
      "[I 2025-01-27 09:55:30,633] Trial 30 pruned. Duplicate parameter set\n"
     ]
    },
    {
     "name": "stdout",
     "output_type": "stream",
     "text": [
      "Duplicated trial: {'algorithm_name': 'KNeighborsClassifier', 'KNeighborsClassifier_algorithm_hash': 'e51ca55089f389fc37a736adb2aa0e42', 'metric__e51ca55089f389fc37a736adb2aa0e42': <KNeighborsMetric.MINKOWSKI: 'minkowski'>, 'n_neighbors__e51ca55089f389fc37a736adb2aa0e42': 4, 'weights__e51ca55089f389fc37a736adb2aa0e42': <KNeighborsWeights.UNIFORM: 'uniform'>, 'descriptor': '{\"name\": \"MACCS_keys\", \"parameters\": {}}'}, return [0.5504615683802662]\n"
     ]
    },
    {
     "name": "stderr",
     "output_type": "stream",
     "text": [
      "[I 2025-01-27 09:55:31,089] Trial 31 finished with value: 0.6607281133976857 and parameters: {'algorithm_name': 'RandomForestClassifier', 'RandomForestClassifier_algorithm_hash': '81728f5b173c58aa046e6327faa7c4b5', 'max_depth__81728f5b173c58aa046e6327faa7c4b5': 11, 'n_estimators__81728f5b173c58aa046e6327faa7c4b5': 45, 'max_features__81728f5b173c58aa046e6327faa7c4b5': <RandomForestMaxFeatures.AUTO: 'auto'>, 'descriptor': '{\"name\": \"ECFP\", \"parameters\": {\"radius\": 3, \"nBits\": 2048, \"returnRdkit\": false}}'}. Best is trial 14 with value: 0.6670249135127893.\n",
      "[I 2025-01-27 09:55:31,100] Trial 32 pruned. Duplicate parameter set\n"
     ]
    },
    {
     "name": "stdout",
     "output_type": "stream",
     "text": [
      "Duplicated trial: {'algorithm_name': 'KNeighborsClassifier', 'KNeighborsClassifier_algorithm_hash': 'e51ca55089f389fc37a736adb2aa0e42', 'metric__e51ca55089f389fc37a736adb2aa0e42': <KNeighborsMetric.MINKOWSKI: 'minkowski'>, 'n_neighbors__e51ca55089f389fc37a736adb2aa0e42': 6, 'weights__e51ca55089f389fc37a736adb2aa0e42': <KNeighborsWeights.UNIFORM: 'uniform'>, 'descriptor': '{\"name\": \"PathFP\", \"parameters\": {\"maxPath\": 3, \"fpSize\": 2048}}'}, return [0.512960361594594]\n"
     ]
    },
    {
     "name": "stderr",
     "output_type": "stream",
     "text": [
      "[I 2025-01-27 09:55:31,386] Trial 33 finished with value: 0.4937040691599487 and parameters: {'algorithm_name': 'LogisticRegression', 'LogisticRegression_algorithm_hash': '8908f22fafa8a855aeb58e3dc9f9ce8e', 'solver__8908f22fafa8a855aeb58e3dc9f9ce8e': 'newton-cg', 'C__8908f22fafa8a855aeb58e3dc9f9ce8e': 1.0, 'descriptor': '{\"name\": \"PathFP\", \"parameters\": {\"maxPath\": 3, \"fpSize\": 2048}}'}. Best is trial 14 with value: 0.6670249135127893.\n",
      "[I 2025-01-27 09:55:31,395] Trial 34 pruned. Duplicate parameter set\n",
      "[I 2025-01-27 09:55:31,405] Trial 35 pruned. Duplicate parameter set\n",
      "[I 2025-01-27 09:55:31,415] Trial 36 pruned. Duplicate parameter set\n",
      "[I 2025-01-27 09:55:31,425] Trial 37 pruned. Duplicate parameter set\n"
     ]
    },
    {
     "name": "stdout",
     "output_type": "stream",
     "text": [
      "Duplicated trial: {'algorithm_name': 'KNeighborsClassifier', 'KNeighborsClassifier_algorithm_hash': 'e51ca55089f389fc37a736adb2aa0e42', 'metric__e51ca55089f389fc37a736adb2aa0e42': <KNeighborsMetric.MINKOWSKI: 'minkowski'>, 'n_neighbors__e51ca55089f389fc37a736adb2aa0e42': 6, 'weights__e51ca55089f389fc37a736adb2aa0e42': <KNeighborsWeights.UNIFORM: 'uniform'>, 'descriptor': '{\"name\": \"ECFP\", \"parameters\": {\"radius\": 3, \"nBits\": 2048, \"returnRdkit\": false}}'}, return [0.6465952800543215]\n",
      "Duplicated trial: {'algorithm_name': 'KNeighborsClassifier', 'KNeighborsClassifier_algorithm_hash': 'e51ca55089f389fc37a736adb2aa0e42', 'metric__e51ca55089f389fc37a736adb2aa0e42': <KNeighborsMetric.MINKOWSKI: 'minkowski'>, 'n_neighbors__e51ca55089f389fc37a736adb2aa0e42': 4, 'weights__e51ca55089f389fc37a736adb2aa0e42': <KNeighborsWeights.UNIFORM: 'uniform'>, 'descriptor': '{\"name\": \"MACCS_keys\", \"parameters\": {}}'}, return [0.5504615683802662]\n",
      "Duplicated trial: {'algorithm_name': 'KNeighborsClassifier', 'KNeighborsClassifier_algorithm_hash': 'e51ca55089f389fc37a736adb2aa0e42', 'metric__e51ca55089f389fc37a736adb2aa0e42': <KNeighborsMetric.MINKOWSKI: 'minkowski'>, 'n_neighbors__e51ca55089f389fc37a736adb2aa0e42': 6, 'weights__e51ca55089f389fc37a736adb2aa0e42': <KNeighborsWeights.UNIFORM: 'uniform'>, 'descriptor': '{\"name\": \"PathFP\", \"parameters\": {\"maxPath\": 3, \"fpSize\": 2048}}'}, return [0.512960361594594]\n",
      "Duplicated trial: {'algorithm_name': 'LogisticRegression', 'LogisticRegression_algorithm_hash': '8908f22fafa8a855aeb58e3dc9f9ce8e', 'solver__8908f22fafa8a855aeb58e3dc9f9ce8e': 'newton-cg', 'C__8908f22fafa8a855aeb58e3dc9f9ce8e': 1.0, 'descriptor': '{\"name\": \"PathFP\", \"parameters\": {\"maxPath\": 3, \"fpSize\": 2048}}'}, return [0.4937040691599487]\n"
     ]
    },
    {
     "name": "stderr",
     "output_type": "stream",
     "text": [
      "[I 2025-01-27 09:55:31,850] Trial 38 finished with value: 0.6414880741469204 and parameters: {'algorithm_name': 'LogisticRegression', 'LogisticRegression_algorithm_hash': '8908f22fafa8a855aeb58e3dc9f9ce8e', 'solver__8908f22fafa8a855aeb58e3dc9f9ce8e': 'sag', 'C__8908f22fafa8a855aeb58e3dc9f9ce8e': 1.0, 'descriptor': '{\"name\": \"ECFP\", \"parameters\": {\"radius\": 3, \"nBits\": 2048, \"returnRdkit\": false}}'}. Best is trial 14 with value: 0.6670249135127893.\n",
      "[I 2025-01-27 09:55:32,256] Trial 39 finished with value: 0.5087808952355071 and parameters: {'algorithm_name': 'RandomForestClassifier', 'RandomForestClassifier_algorithm_hash': '81728f5b173c58aa046e6327faa7c4b5', 'max_depth__81728f5b173c58aa046e6327faa7c4b5': 14, 'n_estimators__81728f5b173c58aa046e6327faa7c4b5': 25, 'max_features__81728f5b173c58aa046e6327faa7c4b5': <RandomForestMaxFeatures.AUTO: 'auto'>, 'descriptor': '{\"name\": \"PathFP\", \"parameters\": {\"maxPath\": 3, \"fpSize\": 2048}}'}. Best is trial 14 with value: 0.6670249135127893.\n",
      "[I 2025-01-27 09:55:32,519] Trial 40 finished with value: 0.6250016361297605 and parameters: {'algorithm_name': 'RandomForestClassifier', 'RandomForestClassifier_algorithm_hash': '81728f5b173c58aa046e6327faa7c4b5', 'max_depth__81728f5b173c58aa046e6327faa7c4b5': 4, 'n_estimators__81728f5b173c58aa046e6327faa7c4b5': 10, 'max_features__81728f5b173c58aa046e6327faa7c4b5': <RandomForestMaxFeatures.AUTO: 'auto'>, 'descriptor': '{\"name\": \"ECFP\", \"parameters\": {\"radius\": 3, \"nBits\": 2048, \"returnRdkit\": false}}'}. Best is trial 14 with value: 0.6670249135127893.\n",
      "[I 2025-01-27 09:55:32,784] Trial 41 finished with value: 0.6531017104553662 and parameters: {'algorithm_name': 'RandomForestClassifier', 'RandomForestClassifier_algorithm_hash': '81728f5b173c58aa046e6327faa7c4b5', 'max_depth__81728f5b173c58aa046e6327faa7c4b5': 20, 'n_estimators__81728f5b173c58aa046e6327faa7c4b5': 10, 'max_features__81728f5b173c58aa046e6327faa7c4b5': <RandomForestMaxFeatures.AUTO: 'auto'>, 'descriptor': '{\"name\": \"ECFP\", \"parameters\": {\"radius\": 3, \"nBits\": 2048, \"returnRdkit\": false}}'}. Best is trial 14 with value: 0.6670249135127893.\n",
      "[I 2025-01-27 09:55:33,067] Trial 42 finished with value: 0.6605077945474405 and parameters: {'algorithm_name': 'RandomForestClassifier', 'RandomForestClassifier_algorithm_hash': '81728f5b173c58aa046e6327faa7c4b5', 'max_depth__81728f5b173c58aa046e6327faa7c4b5': 20, 'n_estimators__81728f5b173c58aa046e6327faa7c4b5': 12, 'max_features__81728f5b173c58aa046e6327faa7c4b5': <RandomForestMaxFeatures.AUTO: 'auto'>, 'descriptor': '{\"name\": \"ECFP\", \"parameters\": {\"radius\": 3, \"nBits\": 2048, \"returnRdkit\": false}}'}. Best is trial 14 with value: 0.6670249135127893.\n",
      "[I 2025-01-27 09:55:33,351] Trial 43 finished with value: 0.6609613151176174 and parameters: {'algorithm_name': 'RandomForestClassifier', 'RandomForestClassifier_algorithm_hash': '81728f5b173c58aa046e6327faa7c4b5', 'max_depth__81728f5b173c58aa046e6327faa7c4b5': 20, 'n_estimators__81728f5b173c58aa046e6327faa7c4b5': 11, 'max_features__81728f5b173c58aa046e6327faa7c4b5': <RandomForestMaxFeatures.AUTO: 'auto'>, 'descriptor': '{\"name\": \"ECFP\", \"parameters\": {\"radius\": 3, \"nBits\": 2048, \"returnRdkit\": false}}'}. Best is trial 14 with value: 0.6670249135127893.\n",
      "[I 2025-01-27 09:55:33,728] Trial 44 finished with value: 0.6635600011679191 and parameters: {'algorithm_name': 'RandomForestClassifier', 'RandomForestClassifier_algorithm_hash': '81728f5b173c58aa046e6327faa7c4b5', 'max_depth__81728f5b173c58aa046e6327faa7c4b5': 20, 'n_estimators__81728f5b173c58aa046e6327faa7c4b5': 21, 'max_features__81728f5b173c58aa046e6327faa7c4b5': <RandomForestMaxFeatures.AUTO: 'auto'>, 'descriptor': '{\"name\": \"ECFP\", \"parameters\": {\"radius\": 3, \"nBits\": 2048, \"returnRdkit\": false}}'}. Best is trial 14 with value: 0.6670249135127893.\n",
      "[I 2025-01-27 09:55:34,137] Trial 45 finished with value: 0.6576105084316113 and parameters: {'algorithm_name': 'RandomForestClassifier', 'RandomForestClassifier_algorithm_hash': '81728f5b173c58aa046e6327faa7c4b5', 'max_depth__81728f5b173c58aa046e6327faa7c4b5': 18, 'n_estimators__81728f5b173c58aa046e6327faa7c4b5': 27, 'max_features__81728f5b173c58aa046e6327faa7c4b5': <RandomForestMaxFeatures.AUTO: 'auto'>, 'descriptor': '{\"name\": \"ECFP\", \"parameters\": {\"radius\": 3, \"nBits\": 2048, \"returnRdkit\": false}}'}. Best is trial 14 with value: 0.6670249135127893.\n",
      "[I 2025-01-27 09:55:34,476] Trial 46 finished with value: 0.6622148046243403 and parameters: {'algorithm_name': 'RandomForestClassifier', 'RandomForestClassifier_algorithm_hash': '81728f5b173c58aa046e6327faa7c4b5', 'max_depth__81728f5b173c58aa046e6327faa7c4b5': 8, 'n_estimators__81728f5b173c58aa046e6327faa7c4b5': 24, 'max_features__81728f5b173c58aa046e6327faa7c4b5': <RandomForestMaxFeatures.AUTO: 'auto'>, 'descriptor': '{\"name\": \"ECFP\", \"parameters\": {\"radius\": 3, \"nBits\": 2048, \"returnRdkit\": false}}'}. Best is trial 14 with value: 0.6670249135127893.\n",
      "[I 2025-01-27 09:55:34,822] Trial 47 finished with value: 0.6629513628608525 and parameters: {'algorithm_name': 'RandomForestClassifier', 'RandomForestClassifier_algorithm_hash': '81728f5b173c58aa046e6327faa7c4b5', 'max_depth__81728f5b173c58aa046e6327faa7c4b5': 9, 'n_estimators__81728f5b173c58aa046e6327faa7c4b5': 27, 'max_features__81728f5b173c58aa046e6327faa7c4b5': <RandomForestMaxFeatures.AUTO: 'auto'>, 'descriptor': '{\"name\": \"ECFP\", \"parameters\": {\"radius\": 3, \"nBits\": 2048, \"returnRdkit\": false}}'}. Best is trial 14 with value: 0.6670249135127893.\n",
      "[I 2025-01-27 09:55:35,164] Trial 48 finished with value: 0.6733896554270584 and parameters: {'algorithm_name': 'RandomForestClassifier', 'RandomForestClassifier_algorithm_hash': '81728f5b173c58aa046e6327faa7c4b5', 'max_depth__81728f5b173c58aa046e6327faa7c4b5': 7, 'n_estimators__81728f5b173c58aa046e6327faa7c4b5': 23, 'max_features__81728f5b173c58aa046e6327faa7c4b5': <RandomForestMaxFeatures.AUTO: 'auto'>, 'descriptor': '{\"name\": \"ECFP\", \"parameters\": {\"radius\": 3, \"nBits\": 2048, \"returnRdkit\": false}}'}. Best is trial 48 with value: 0.6733896554270584.\n",
      "[I 2025-01-27 09:55:35,492] Trial 49 finished with value: 0.6693009430222314 and parameters: {'algorithm_name': 'RandomForestClassifier', 'RandomForestClassifier_algorithm_hash': '81728f5b173c58aa046e6327faa7c4b5', 'max_depth__81728f5b173c58aa046e6327faa7c4b5': 7, 'n_estimators__81728f5b173c58aa046e6327faa7c4b5': 25, 'max_features__81728f5b173c58aa046e6327faa7c4b5': <RandomForestMaxFeatures.AUTO: 'auto'>, 'descriptor': '{\"name\": \"ECFP\", \"parameters\": {\"radius\": 3, \"nBits\": 2048, \"returnRdkit\": false}}'}. Best is trial 48 with value: 0.6733896554270584.\n",
      "[I 2025-01-27 09:55:35,852] Trial 50 finished with value: 0.6546455566658881 and parameters: {'algorithm_name': 'RandomForestClassifier', 'RandomForestClassifier_algorithm_hash': '81728f5b173c58aa046e6327faa7c4b5', 'max_depth__81728f5b173c58aa046e6327faa7c4b5': 8, 'n_estimators__81728f5b173c58aa046e6327faa7c4b5': 33, 'max_features__81728f5b173c58aa046e6327faa7c4b5': <RandomForestMaxFeatures.AUTO: 'auto'>, 'descriptor': '{\"name\": \"ECFP\", \"parameters\": {\"radius\": 3, \"nBits\": 2048, \"returnRdkit\": false}}'}. Best is trial 48 with value: 0.6733896554270584.\n",
      "[I 2025-01-27 09:55:36,195] Trial 51 finished with value: 0.6659862025902863 and parameters: {'algorithm_name': 'RandomForestClassifier', 'RandomForestClassifier_algorithm_hash': '81728f5b173c58aa046e6327faa7c4b5', 'max_depth__81728f5b173c58aa046e6327faa7c4b5': 7, 'n_estimators__81728f5b173c58aa046e6327faa7c4b5': 27, 'max_features__81728f5b173c58aa046e6327faa7c4b5': <RandomForestMaxFeatures.AUTO: 'auto'>, 'descriptor': '{\"name\": \"ECFP\", \"parameters\": {\"radius\": 3, \"nBits\": 2048, \"returnRdkit\": false}}'}. Best is trial 48 with value: 0.6733896554270584.\n",
      "[I 2025-01-27 09:55:36,522] Trial 52 finished with value: 0.6739880025512673 and parameters: {'algorithm_name': 'RandomForestClassifier', 'RandomForestClassifier_algorithm_hash': '81728f5b173c58aa046e6327faa7c4b5', 'max_depth__81728f5b173c58aa046e6327faa7c4b5': 7, 'n_estimators__81728f5b173c58aa046e6327faa7c4b5': 22, 'max_features__81728f5b173c58aa046e6327faa7c4b5': <RandomForestMaxFeatures.AUTO: 'auto'>, 'descriptor': '{\"name\": \"ECFP\", \"parameters\": {\"radius\": 3, \"nBits\": 2048, \"returnRdkit\": false}}'}. Best is trial 52 with value: 0.6739880025512673.\n",
      "[I 2025-01-27 09:55:36,820] Trial 53 finished with value: 0.6544957865207367 and parameters: {'algorithm_name': 'RandomForestClassifier', 'RandomForestClassifier_algorithm_hash': '81728f5b173c58aa046e6327faa7c4b5', 'max_depth__81728f5b173c58aa046e6327faa7c4b5': 6, 'n_estimators__81728f5b173c58aa046e6327faa7c4b5': 20, 'max_features__81728f5b173c58aa046e6327faa7c4b5': <RandomForestMaxFeatures.AUTO: 'auto'>, 'descriptor': '{\"name\": \"ECFP\", \"parameters\": {\"radius\": 3, \"nBits\": 2048, \"returnRdkit\": false}}'}. Best is trial 52 with value: 0.6739880025512673.\n",
      "[I 2025-01-27 09:55:36,840] Trial 54 pruned. Duplicate parameter set\n"
     ]
    },
    {
     "name": "stdout",
     "output_type": "stream",
     "text": [
      "Duplicated trial: {'algorithm_name': 'RandomForestClassifier', 'RandomForestClassifier_algorithm_hash': '81728f5b173c58aa046e6327faa7c4b5', 'max_depth__81728f5b173c58aa046e6327faa7c4b5': 6, 'n_estimators__81728f5b173c58aa046e6327faa7c4b5': 20, 'max_features__81728f5b173c58aa046e6327faa7c4b5': <RandomForestMaxFeatures.AUTO: 'auto'>, 'descriptor': '{\"name\": \"ECFP\", \"parameters\": {\"radius\": 3, \"nBits\": 2048, \"returnRdkit\": false}}'}, return [0.6544957865207367]\n"
     ]
    },
    {
     "name": "stderr",
     "output_type": "stream",
     "text": [
      "[I 2025-01-27 09:55:37,208] Trial 55 finished with value: 0.658077597678162 and parameters: {'algorithm_name': 'RandomForestClassifier', 'RandomForestClassifier_algorithm_hash': '81728f5b173c58aa046e6327faa7c4b5', 'max_depth__81728f5b173c58aa046e6327faa7c4b5': 6, 'n_estimators__81728f5b173c58aa046e6327faa7c4b5': 42, 'max_features__81728f5b173c58aa046e6327faa7c4b5': <RandomForestMaxFeatures.AUTO: 'auto'>, 'descriptor': '{\"name\": \"ECFP\", \"parameters\": {\"radius\": 3, \"nBits\": 2048, \"returnRdkit\": false}}'}. Best is trial 52 with value: 0.6739880025512673.\n",
      "[I 2025-01-27 09:55:37,538] Trial 56 finished with value: 0.6738241342840838 and parameters: {'algorithm_name': 'RandomForestClassifier', 'RandomForestClassifier_algorithm_hash': '81728f5b173c58aa046e6327faa7c4b5', 'max_depth__81728f5b173c58aa046e6327faa7c4b5': 9, 'n_estimators__81728f5b173c58aa046e6327faa7c4b5': 20, 'max_features__81728f5b173c58aa046e6327faa7c4b5': <RandomForestMaxFeatures.AUTO: 'auto'>, 'descriptor': '{\"name\": \"ECFP\", \"parameters\": {\"radius\": 3, \"nBits\": 2048, \"returnRdkit\": false}}'}. Best is trial 52 with value: 0.6739880025512673.\n",
      "[I 2025-01-27 09:55:37,928] Trial 57 finished with value: 0.661592138571973 and parameters: {'algorithm_name': 'RandomForestClassifier', 'RandomForestClassifier_algorithm_hash': '81728f5b173c58aa046e6327faa7c4b5', 'max_depth__81728f5b173c58aa046e6327faa7c4b5': 9, 'n_estimators__81728f5b173c58aa046e6327faa7c4b5': 33, 'max_features__81728f5b173c58aa046e6327faa7c4b5': <RandomForestMaxFeatures.AUTO: 'auto'>, 'descriptor': '{\"name\": \"ECFP\", \"parameters\": {\"radius\": 3, \"nBits\": 2048, \"returnRdkit\": false}}'}. Best is trial 52 with value: 0.6739880025512673.\n",
      "[I 2025-01-27 09:55:38,238] Trial 58 finished with value: 0.655911830802687 and parameters: {'algorithm_name': 'RandomForestClassifier', 'RandomForestClassifier_algorithm_hash': '81728f5b173c58aa046e6327faa7c4b5', 'max_depth__81728f5b173c58aa046e6327faa7c4b5': 5, 'n_estimators__81728f5b173c58aa046e6327faa7c4b5': 19, 'max_features__81728f5b173c58aa046e6327faa7c4b5': <RandomForestMaxFeatures.AUTO: 'auto'>, 'descriptor': '{\"name\": \"ECFP\", \"parameters\": {\"radius\": 3, \"nBits\": 2048, \"returnRdkit\": false}}'}. Best is trial 52 with value: 0.6739880025512673.\n",
      "[I 2025-01-27 09:55:38,642] Trial 59 finished with value: 0.6628854972283067 and parameters: {'algorithm_name': 'RandomForestClassifier', 'RandomForestClassifier_algorithm_hash': '81728f5b173c58aa046e6327faa7c4b5', 'max_depth__81728f5b173c58aa046e6327faa7c4b5': 14, 'n_estimators__81728f5b173c58aa046e6327faa7c4b5': 29, 'max_features__81728f5b173c58aa046e6327faa7c4b5': <RandomForestMaxFeatures.AUTO: 'auto'>, 'descriptor': '{\"name\": \"ECFP\", \"parameters\": {\"radius\": 3, \"nBits\": 2048, \"returnRdkit\": false}}'}. Best is trial 52 with value: 0.6739880025512673.\n",
      "[I 2025-01-27 09:55:39,051] Trial 60 finished with value: 0.6592992834080238 and parameters: {'algorithm_name': 'RandomForestClassifier', 'RandomForestClassifier_algorithm_hash': '81728f5b173c58aa046e6327faa7c4b5', 'max_depth__81728f5b173c58aa046e6327faa7c4b5': 8, 'n_estimators__81728f5b173c58aa046e6327faa7c4b5': 44, 'max_features__81728f5b173c58aa046e6327faa7c4b5': <RandomForestMaxFeatures.AUTO: 'auto'>, 'descriptor': '{\"name\": \"ECFP\", \"parameters\": {\"radius\": 3, \"nBits\": 2048, \"returnRdkit\": false}}'}. Best is trial 52 with value: 0.6739880025512673.\n",
      "[I 2025-01-27 09:55:39,377] Trial 61 finished with value: 0.681029655104861 and parameters: {'algorithm_name': 'RandomForestClassifier', 'RandomForestClassifier_algorithm_hash': '81728f5b173c58aa046e6327faa7c4b5', 'max_depth__81728f5b173c58aa046e6327faa7c4b5': 7, 'n_estimators__81728f5b173c58aa046e6327faa7c4b5': 19, 'max_features__81728f5b173c58aa046e6327faa7c4b5': <RandomForestMaxFeatures.AUTO: 'auto'>, 'descriptor': '{\"name\": \"ECFP\", \"parameters\": {\"radius\": 3, \"nBits\": 2048, \"returnRdkit\": false}}'}. Best is trial 61 with value: 0.681029655104861.\n",
      "[I 2025-01-27 09:55:39,670] Trial 62 finished with value: 0.6469101713081912 and parameters: {'algorithm_name': 'RandomForestClassifier', 'RandomForestClassifier_algorithm_hash': '81728f5b173c58aa046e6327faa7c4b5', 'max_depth__81728f5b173c58aa046e6327faa7c4b5': 3, 'n_estimators__81728f5b173c58aa046e6327faa7c4b5': 17, 'max_features__81728f5b173c58aa046e6327faa7c4b5': <RandomForestMaxFeatures.AUTO: 'auto'>, 'descriptor': '{\"name\": \"ECFP\", \"parameters\": {\"radius\": 3, \"nBits\": 2048, \"returnRdkit\": false}}'}. Best is trial 61 with value: 0.681029655104861.\n",
      "[I 2025-01-27 09:55:39,692] Trial 63 pruned. Duplicate parameter set\n"
     ]
    },
    {
     "name": "stdout",
     "output_type": "stream",
     "text": [
      "Duplicated trial: {'algorithm_name': 'RandomForestClassifier', 'RandomForestClassifier_algorithm_hash': '81728f5b173c58aa046e6327faa7c4b5', 'max_depth__81728f5b173c58aa046e6327faa7c4b5': 7, 'n_estimators__81728f5b173c58aa046e6327faa7c4b5': 23, 'max_features__81728f5b173c58aa046e6327faa7c4b5': <RandomForestMaxFeatures.AUTO: 'auto'>, 'descriptor': '{\"name\": \"ECFP\", \"parameters\": {\"radius\": 3, \"nBits\": 2048, \"returnRdkit\": false}}'}, return [0.6733896554270584]\n"
     ]
    },
    {
     "name": "stderr",
     "output_type": "stream",
     "text": [
      "[I 2025-01-27 09:55:40,341] Trial 64 finished with value: 0.666148133324753 and parameters: {'algorithm_name': 'RandomForestClassifier', 'RandomForestClassifier_algorithm_hash': '81728f5b173c58aa046e6327faa7c4b5', 'max_depth__81728f5b173c58aa046e6327faa7c4b5': 10, 'n_estimators__81728f5b173c58aa046e6327faa7c4b5': 100, 'max_features__81728f5b173c58aa046e6327faa7c4b5': <RandomForestMaxFeatures.AUTO: 'auto'>, 'descriptor': '{\"name\": \"ECFP\", \"parameters\": {\"radius\": 3, \"nBits\": 2048, \"returnRdkit\": false}}'}. Best is trial 61 with value: 0.681029655104861.\n",
      "[I 2025-01-27 09:55:40,934] Trial 65 finished with value: 0.667859611918311 and parameters: {'algorithm_name': 'RandomForestClassifier', 'RandomForestClassifier_algorithm_hash': '81728f5b173c58aa046e6327faa7c4b5', 'max_depth__81728f5b173c58aa046e6327faa7c4b5': 10, 'n_estimators__81728f5b173c58aa046e6327faa7c4b5': 92, 'max_features__81728f5b173c58aa046e6327faa7c4b5': <RandomForestMaxFeatures.AUTO: 'auto'>, 'descriptor': '{\"name\": \"ECFP\", \"parameters\": {\"radius\": 3, \"nBits\": 2048, \"returnRdkit\": false}}'}. Best is trial 61 with value: 0.681029655104861.\n",
      "[I 2025-01-27 09:55:41,509] Trial 66 finished with value: 0.6687226984753947 and parameters: {'algorithm_name': 'RandomForestClassifier', 'RandomForestClassifier_algorithm_hash': '81728f5b173c58aa046e6327faa7c4b5', 'max_depth__81728f5b173c58aa046e6327faa7c4b5': 14, 'n_estimators__81728f5b173c58aa046e6327faa7c4b5': 72, 'max_features__81728f5b173c58aa046e6327faa7c4b5': <RandomForestMaxFeatures.AUTO: 'auto'>, 'descriptor': '{\"name\": \"ECFP\", \"parameters\": {\"radius\": 3, \"nBits\": 2048, \"returnRdkit\": false}}'}. Best is trial 61 with value: 0.681029655104861.\n",
      "[I 2025-01-27 09:55:41,993] Trial 67 finished with value: 0.6675714252627372 and parameters: {'algorithm_name': 'RandomForestClassifier', 'RandomForestClassifier_algorithm_hash': '81728f5b173c58aa046e6327faa7c4b5', 'max_depth__81728f5b173c58aa046e6327faa7c4b5': 14, 'n_estimators__81728f5b173c58aa046e6327faa7c4b5': 50, 'max_features__81728f5b173c58aa046e6327faa7c4b5': <RandomForestMaxFeatures.AUTO: 'auto'>, 'descriptor': '{\"name\": \"ECFP\", \"parameters\": {\"radius\": 3, \"nBits\": 2048, \"returnRdkit\": false}}'}. Best is trial 61 with value: 0.681029655104861.\n",
      "[I 2025-01-27 09:55:42,587] Trial 68 finished with value: 0.6680720413173702 and parameters: {'algorithm_name': 'RandomForestClassifier', 'RandomForestClassifier_algorithm_hash': '81728f5b173c58aa046e6327faa7c4b5', 'max_depth__81728f5b173c58aa046e6327faa7c4b5': 12, 'n_estimators__81728f5b173c58aa046e6327faa7c4b5': 83, 'max_features__81728f5b173c58aa046e6327faa7c4b5': <RandomForestMaxFeatures.AUTO: 'auto'>, 'descriptor': '{\"name\": \"ECFP\", \"parameters\": {\"radius\": 3, \"nBits\": 2048, \"returnRdkit\": false}}'}. Best is trial 61 with value: 0.681029655104861.\n",
      "[I 2025-01-27 09:55:43,213] Trial 69 finished with value: 0.6698699637066987 and parameters: {'algorithm_name': 'RandomForestClassifier', 'RandomForestClassifier_algorithm_hash': '81728f5b173c58aa046e6327faa7c4b5', 'max_depth__81728f5b173c58aa046e6327faa7c4b5': 13, 'n_estimators__81728f5b173c58aa046e6327faa7c4b5': 86, 'max_features__81728f5b173c58aa046e6327faa7c4b5': <RandomForestMaxFeatures.AUTO: 'auto'>, 'descriptor': '{\"name\": \"ECFP\", \"parameters\": {\"radius\": 3, \"nBits\": 2048, \"returnRdkit\": false}}'}. Best is trial 61 with value: 0.681029655104861.\n",
      "[I 2025-01-27 09:55:43,803] Trial 70 finished with value: 0.6685703227341684 and parameters: {'algorithm_name': 'RandomForestClassifier', 'RandomForestClassifier_algorithm_hash': '81728f5b173c58aa046e6327faa7c4b5', 'max_depth__81728f5b173c58aa046e6327faa7c4b5': 16, 'n_estimators__81728f5b173c58aa046e6327faa7c4b5': 73, 'max_features__81728f5b173c58aa046e6327faa7c4b5': <RandomForestMaxFeatures.AUTO: 'auto'>, 'descriptor': '{\"name\": \"ECFP\", \"parameters\": {\"radius\": 3, \"nBits\": 2048, \"returnRdkit\": false}}'}. Best is trial 61 with value: 0.681029655104861.\n",
      "[I 2025-01-27 09:55:44,398] Trial 71 finished with value: 0.6690822973404359 and parameters: {'algorithm_name': 'RandomForestClassifier', 'RandomForestClassifier_algorithm_hash': '81728f5b173c58aa046e6327faa7c4b5', 'max_depth__81728f5b173c58aa046e6327faa7c4b5': 16, 'n_estimators__81728f5b173c58aa046e6327faa7c4b5': 74, 'max_features__81728f5b173c58aa046e6327faa7c4b5': <RandomForestMaxFeatures.AUTO: 'auto'>, 'descriptor': '{\"name\": \"ECFP\", \"parameters\": {\"radius\": 3, \"nBits\": 2048, \"returnRdkit\": false}}'}. Best is trial 61 with value: 0.681029655104861.\n",
      "[I 2025-01-27 09:55:45,028] Trial 72 finished with value: 0.6711153632737239 and parameters: {'algorithm_name': 'RandomForestClassifier', 'RandomForestClassifier_algorithm_hash': '81728f5b173c58aa046e6327faa7c4b5', 'max_depth__81728f5b173c58aa046e6327faa7c4b5': 17, 'n_estimators__81728f5b173c58aa046e6327faa7c4b5': 82, 'max_features__81728f5b173c58aa046e6327faa7c4b5': <RandomForestMaxFeatures.AUTO: 'auto'>, 'descriptor': '{\"name\": \"ECFP\", \"parameters\": {\"radius\": 3, \"nBits\": 2048, \"returnRdkit\": false}}'}. Best is trial 61 with value: 0.681029655104861.\n",
      "[I 2025-01-27 09:55:45,658] Trial 73 finished with value: 0.6686583672761361 and parameters: {'algorithm_name': 'RandomForestClassifier', 'RandomForestClassifier_algorithm_hash': '81728f5b173c58aa046e6327faa7c4b5', 'max_depth__81728f5b173c58aa046e6327faa7c4b5': 16, 'n_estimators__81728f5b173c58aa046e6327faa7c4b5': 84, 'max_features__81728f5b173c58aa046e6327faa7c4b5': <RandomForestMaxFeatures.AUTO: 'auto'>, 'descriptor': '{\"name\": \"ECFP\", \"parameters\": {\"radius\": 3, \"nBits\": 2048, \"returnRdkit\": false}}'}. Best is trial 61 with value: 0.681029655104861.\n",
      "[I 2025-01-27 09:55:46,313] Trial 74 finished with value: 0.6655133765739318 and parameters: {'algorithm_name': 'RandomForestClassifier', 'RandomForestClassifier_algorithm_hash': '81728f5b173c58aa046e6327faa7c4b5', 'max_depth__81728f5b173c58aa046e6327faa7c4b5': 18, 'n_estimators__81728f5b173c58aa046e6327faa7c4b5': 86, 'max_features__81728f5b173c58aa046e6327faa7c4b5': <RandomForestMaxFeatures.AUTO: 'auto'>, 'descriptor': '{\"name\": \"ECFP\", \"parameters\": {\"radius\": 3, \"nBits\": 2048, \"returnRdkit\": false}}'}. Best is trial 61 with value: 0.681029655104861.\n",
      "[I 2025-01-27 09:55:46,870] Trial 75 finished with value: 0.6689104778777593 and parameters: {'algorithm_name': 'RandomForestClassifier', 'RandomForestClassifier_algorithm_hash': '81728f5b173c58aa046e6327faa7c4b5', 'max_depth__81728f5b173c58aa046e6327faa7c4b5': 12, 'n_estimators__81728f5b173c58aa046e6327faa7c4b5': 79, 'max_features__81728f5b173c58aa046e6327faa7c4b5': <RandomForestMaxFeatures.AUTO: 'auto'>, 'descriptor': '{\"name\": \"ECFP\", \"parameters\": {\"radius\": 3, \"nBits\": 2048, \"returnRdkit\": false}}'}. Best is trial 61 with value: 0.681029655104861.\n",
      "[I 2025-01-27 09:55:47,259] Trial 76 finished with value: 0.6356925918667693 and parameters: {'algorithm_name': 'RandomForestClassifier', 'RandomForestClassifier_algorithm_hash': '81728f5b173c58aa046e6327faa7c4b5', 'max_depth__81728f5b173c58aa046e6327faa7c4b5': 2, 'n_estimators__81728f5b173c58aa046e6327faa7c4b5': 90, 'max_features__81728f5b173c58aa046e6327faa7c4b5': <RandomForestMaxFeatures.AUTO: 'auto'>, 'descriptor': '{\"name\": \"ECFP\", \"parameters\": {\"radius\": 3, \"nBits\": 2048, \"returnRdkit\": false}}'}. Best is trial 61 with value: 0.681029655104861.\n",
      "[I 2025-01-27 09:55:47,618] Trial 77 finished with value: 0.6691511019859273 and parameters: {'algorithm_name': 'RandomForestClassifier', 'RandomForestClassifier_algorithm_hash': '81728f5b173c58aa046e6327faa7c4b5', 'max_depth__81728f5b173c58aa046e6327faa7c4b5': 32, 'n_estimators__81728f5b173c58aa046e6327faa7c4b5': 16, 'max_features__81728f5b173c58aa046e6327faa7c4b5': <RandomForestMaxFeatures.AUTO: 'auto'>, 'descriptor': '{\"name\": \"ECFP\", \"parameters\": {\"radius\": 3, \"nBits\": 2048, \"returnRdkit\": false}}'}. Best is trial 61 with value: 0.681029655104861.\n",
      "[I 2025-01-27 09:55:47,962] Trial 78 finished with value: 0.6677961502165448 and parameters: {'algorithm_name': 'RandomForestClassifier', 'RandomForestClassifier_algorithm_hash': '81728f5b173c58aa046e6327faa7c4b5', 'max_depth__81728f5b173c58aa046e6327faa7c4b5': 32, 'n_estimators__81728f5b173c58aa046e6327faa7c4b5': 15, 'max_features__81728f5b173c58aa046e6327faa7c4b5': <RandomForestMaxFeatures.AUTO: 'auto'>, 'descriptor': '{\"name\": \"ECFP\", \"parameters\": {\"radius\": 3, \"nBits\": 2048, \"returnRdkit\": false}}'}. Best is trial 61 with value: 0.681029655104861.\n",
      "[I 2025-01-27 09:55:48,471] Trial 79 finished with value: 0.6663392545439772 and parameters: {'algorithm_name': 'RandomForestClassifier', 'RandomForestClassifier_algorithm_hash': '81728f5b173c58aa046e6327faa7c4b5', 'max_depth__81728f5b173c58aa046e6327faa7c4b5': 5, 'n_estimators__81728f5b173c58aa046e6327faa7c4b5': 95, 'max_features__81728f5b173c58aa046e6327faa7c4b5': <RandomForestMaxFeatures.AUTO: 'auto'>, 'descriptor': '{\"name\": \"ECFP\", \"parameters\": {\"radius\": 3, \"nBits\": 2048, \"returnRdkit\": false}}'}. Best is trial 61 with value: 0.681029655104861.\n",
      "[I 2025-01-27 09:55:48,890] Trial 80 finished with value: 0.6792516283858565 and parameters: {'algorithm_name': 'RandomForestClassifier', 'RandomForestClassifier_algorithm_hash': '81728f5b173c58aa046e6327faa7c4b5', 'max_depth__81728f5b173c58aa046e6327faa7c4b5': 12, 'n_estimators__81728f5b173c58aa046e6327faa7c4b5': 15, 'max_features__81728f5b173c58aa046e6327faa7c4b5': <RandomForestMaxFeatures.AUTO: 'auto'>, 'descriptor': '{\"name\": \"ECFP\", \"parameters\": {\"radius\": 3, \"nBits\": 2048, \"returnRdkit\": false}}'}. Best is trial 61 with value: 0.681029655104861.\n",
      "[I 2025-01-27 09:55:49,248] Trial 81 finished with value: 0.6653720873145423 and parameters: {'algorithm_name': 'RandomForestClassifier', 'RandomForestClassifier_algorithm_hash': '81728f5b173c58aa046e6327faa7c4b5', 'max_depth__81728f5b173c58aa046e6327faa7c4b5': 23, 'n_estimators__81728f5b173c58aa046e6327faa7c4b5': 15, 'max_features__81728f5b173c58aa046e6327faa7c4b5': <RandomForestMaxFeatures.AUTO: 'auto'>, 'descriptor': '{\"name\": \"ECFP\", \"parameters\": {\"radius\": 3, \"nBits\": 2048, \"returnRdkit\": false}}'}. Best is trial 61 with value: 0.681029655104861.\n",
      "[I 2025-01-27 09:55:49,576] Trial 82 finished with value: 0.672885755873535 and parameters: {'algorithm_name': 'RandomForestClassifier', 'RandomForestClassifier_algorithm_hash': '81728f5b173c58aa046e6327faa7c4b5', 'max_depth__81728f5b173c58aa046e6327faa7c4b5': 11, 'n_estimators__81728f5b173c58aa046e6327faa7c4b5': 16, 'max_features__81728f5b173c58aa046e6327faa7c4b5': <RandomForestMaxFeatures.AUTO: 'auto'>, 'descriptor': '{\"name\": \"ECFP\", \"parameters\": {\"radius\": 3, \"nBits\": 2048, \"returnRdkit\": false}}'}. Best is trial 61 with value: 0.681029655104861.\n",
      "[I 2025-01-27 09:55:49,937] Trial 83 finished with value: 0.6681901776656065 and parameters: {'algorithm_name': 'RandomForestClassifier', 'RandomForestClassifier_algorithm_hash': '81728f5b173c58aa046e6327faa7c4b5', 'max_depth__81728f5b173c58aa046e6327faa7c4b5': 11, 'n_estimators__81728f5b173c58aa046e6327faa7c4b5': 22, 'max_features__81728f5b173c58aa046e6327faa7c4b5': <RandomForestMaxFeatures.AUTO: 'auto'>, 'descriptor': '{\"name\": \"ECFP\", \"parameters\": {\"radius\": 3, \"nBits\": 2048, \"returnRdkit\": false}}'}. Best is trial 61 with value: 0.681029655104861.\n",
      "[I 2025-01-27 09:55:50,216] Trial 84 finished with value: 0.6674103921040592 and parameters: {'algorithm_name': 'RandomForestClassifier', 'RandomForestClassifier_algorithm_hash': '81728f5b173c58aa046e6327faa7c4b5', 'max_depth__81728f5b173c58aa046e6327faa7c4b5': 9, 'n_estimators__81728f5b173c58aa046e6327faa7c4b5': 13, 'max_features__81728f5b173c58aa046e6327faa7c4b5': <RandomForestMaxFeatures.AUTO: 'auto'>, 'descriptor': '{\"name\": \"ECFP\", \"parameters\": {\"radius\": 3, \"nBits\": 2048, \"returnRdkit\": false}}'}. Best is trial 61 with value: 0.681029655104861.\n",
      "[I 2025-01-27 09:55:50,561] Trial 85 finished with value: 0.6759476165144932 and parameters: {'algorithm_name': 'RandomForestClassifier', 'RandomForestClassifier_algorithm_hash': '81728f5b173c58aa046e6327faa7c4b5', 'max_depth__81728f5b173c58aa046e6327faa7c4b5': 13, 'n_estimators__81728f5b173c58aa046e6327faa7c4b5': 17, 'max_features__81728f5b173c58aa046e6327faa7c4b5': <RandomForestMaxFeatures.AUTO: 'auto'>, 'descriptor': '{\"name\": \"ECFP\", \"parameters\": {\"radius\": 3, \"nBits\": 2048, \"returnRdkit\": false}}'}. Best is trial 61 with value: 0.681029655104861.\n",
      "[I 2025-01-27 09:55:50,933] Trial 86 finished with value: 0.6743357736162032 and parameters: {'algorithm_name': 'RandomForestClassifier', 'RandomForestClassifier_algorithm_hash': '81728f5b173c58aa046e6327faa7c4b5', 'max_depth__81728f5b173c58aa046e6327faa7c4b5': 13, 'n_estimators__81728f5b173c58aa046e6327faa7c4b5': 18, 'max_features__81728f5b173c58aa046e6327faa7c4b5': <RandomForestMaxFeatures.AUTO: 'auto'>, 'descriptor': '{\"name\": \"ECFP\", \"parameters\": {\"radius\": 3, \"nBits\": 2048, \"returnRdkit\": false}}'}. Best is trial 61 with value: 0.681029655104861.\n",
      "[I 2025-01-27 09:55:51,291] Trial 87 finished with value: 0.6781403014540325 and parameters: {'algorithm_name': 'RandomForestClassifier', 'RandomForestClassifier_algorithm_hash': '81728f5b173c58aa046e6327faa7c4b5', 'max_depth__81728f5b173c58aa046e6327faa7c4b5': 12, 'n_estimators__81728f5b173c58aa046e6327faa7c4b5': 18, 'max_features__81728f5b173c58aa046e6327faa7c4b5': <RandomForestMaxFeatures.AUTO: 'auto'>, 'descriptor': '{\"name\": \"ECFP\", \"parameters\": {\"radius\": 3, \"nBits\": 2048, \"returnRdkit\": false}}'}. Best is trial 61 with value: 0.681029655104861.\n",
      "[I 2025-01-27 09:55:51,312] Trial 88 pruned. Duplicate parameter set\n"
     ]
    },
    {
     "name": "stdout",
     "output_type": "stream",
     "text": [
      "Duplicated trial: {'algorithm_name': 'LogisticRegression', 'LogisticRegression_algorithm_hash': '8908f22fafa8a855aeb58e3dc9f9ce8e', 'solver__8908f22fafa8a855aeb58e3dc9f9ce8e': 'lbfgs', 'C__8908f22fafa8a855aeb58e3dc9f9ce8e': 1.0, 'descriptor': '{\"name\": \"ECFP\", \"parameters\": {\"radius\": 3, \"nBits\": 2048, \"returnRdkit\": false}}'}, return [0.6397594928697388]\n"
     ]
    },
    {
     "name": "stderr",
     "output_type": "stream",
     "text": [
      "[I 2025-01-27 09:55:51,645] Trial 89 finished with value: 0.6746597972036243 and parameters: {'algorithm_name': 'RandomForestClassifier', 'RandomForestClassifier_algorithm_hash': '81728f5b173c58aa046e6327faa7c4b5', 'max_depth__81728f5b173c58aa046e6327faa7c4b5': 11, 'n_estimators__81728f5b173c58aa046e6327faa7c4b5': 18, 'max_features__81728f5b173c58aa046e6327faa7c4b5': <RandomForestMaxFeatures.AUTO: 'auto'>, 'descriptor': '{\"name\": \"ECFP\", \"parameters\": {\"radius\": 3, \"nBits\": 2048, \"returnRdkit\": false}}'}. Best is trial 61 with value: 0.681029655104861.\n",
      "[I 2025-01-27 09:55:51,911] Trial 90 finished with value: 0.6070579289959466 and parameters: {'algorithm_name': 'RandomForestClassifier', 'RandomForestClassifier_algorithm_hash': '81728f5b173c58aa046e6327faa7c4b5', 'max_depth__81728f5b173c58aa046e6327faa7c4b5': 13, 'n_estimators__81728f5b173c58aa046e6327faa7c4b5': 19, 'max_features__81728f5b173c58aa046e6327faa7c4b5': <RandomForestMaxFeatures.AUTO: 'auto'>, 'descriptor': '{\"name\": \"MACCS_keys\", \"parameters\": {}}'}. Best is trial 61 with value: 0.681029655104861.\n",
      "[I 2025-01-27 09:55:52,191] Trial 91 finished with value: 0.6524656153390159 and parameters: {'algorithm_name': 'RandomForestClassifier', 'RandomForestClassifier_algorithm_hash': '81728f5b173c58aa046e6327faa7c4b5', 'max_depth__81728f5b173c58aa046e6327faa7c4b5': 11, 'n_estimators__81728f5b173c58aa046e6327faa7c4b5': 10, 'max_features__81728f5b173c58aa046e6327faa7c4b5': <RandomForestMaxFeatures.AUTO: 'auto'>, 'descriptor': '{\"name\": \"ECFP\", \"parameters\": {\"radius\": 3, \"nBits\": 2048, \"returnRdkit\": false}}'}. Best is trial 61 with value: 0.681029655104861.\n",
      "[I 2025-01-27 09:55:52,532] Trial 92 finished with value: 0.6790739341879403 and parameters: {'algorithm_name': 'RandomForestClassifier', 'RandomForestClassifier_algorithm_hash': '81728f5b173c58aa046e6327faa7c4b5', 'max_depth__81728f5b173c58aa046e6327faa7c4b5': 12, 'n_estimators__81728f5b173c58aa046e6327faa7c4b5': 17, 'max_features__81728f5b173c58aa046e6327faa7c4b5': <RandomForestMaxFeatures.AUTO: 'auto'>, 'descriptor': '{\"name\": \"ECFP\", \"parameters\": {\"radius\": 3, \"nBits\": 2048, \"returnRdkit\": false}}'}. Best is trial 61 with value: 0.681029655104861.\n",
      "[I 2025-01-27 09:55:52,561] Trial 93 pruned. Duplicate parameter set\n"
     ]
    },
    {
     "name": "stdout",
     "output_type": "stream",
     "text": [
      "Duplicated trial: {'algorithm_name': 'RandomForestClassifier', 'RandomForestClassifier_algorithm_hash': '81728f5b173c58aa046e6327faa7c4b5', 'max_depth__81728f5b173c58aa046e6327faa7c4b5': 13, 'n_estimators__81728f5b173c58aa046e6327faa7c4b5': 18, 'max_features__81728f5b173c58aa046e6327faa7c4b5': <RandomForestMaxFeatures.AUTO: 'auto'>, 'descriptor': '{\"name\": \"ECFP\", \"parameters\": {\"radius\": 3, \"nBits\": 2048, \"returnRdkit\": false}}'}, return [0.6743357736162032]\n"
     ]
    },
    {
     "name": "stderr",
     "output_type": "stream",
     "text": [
      "[I 2025-01-27 09:55:52,941] Trial 94 finished with value: 0.6595718292881894 and parameters: {'algorithm_name': 'RandomForestClassifier', 'RandomForestClassifier_algorithm_hash': '81728f5b173c58aa046e6327faa7c4b5', 'max_depth__81728f5b173c58aa046e6327faa7c4b5': 10, 'n_estimators__81728f5b173c58aa046e6327faa7c4b5': 30, 'max_features__81728f5b173c58aa046e6327faa7c4b5': <RandomForestMaxFeatures.AUTO: 'auto'>, 'descriptor': '{\"name\": \"ECFP\", \"parameters\": {\"radius\": 3, \"nBits\": 2048, \"returnRdkit\": false}}'}. Best is trial 61 with value: 0.681029655104861.\n",
      "[I 2025-01-27 09:55:53,296] Trial 95 finished with value: 0.6741689603054075 and parameters: {'algorithm_name': 'RandomForestClassifier', 'RandomForestClassifier_algorithm_hash': '81728f5b173c58aa046e6327faa7c4b5', 'max_depth__81728f5b173c58aa046e6327faa7c4b5': 12, 'n_estimators__81728f5b173c58aa046e6327faa7c4b5': 22, 'max_features__81728f5b173c58aa046e6327faa7c4b5': <RandomForestMaxFeatures.AUTO: 'auto'>, 'descriptor': '{\"name\": \"ECFP\", \"parameters\": {\"radius\": 3, \"nBits\": 2048, \"returnRdkit\": false}}'}. Best is trial 61 with value: 0.681029655104861.\n",
      "[I 2025-01-27 09:55:53,607] Trial 96 finished with value: 0.66979613485056 and parameters: {'algorithm_name': 'RandomForestClassifier', 'RandomForestClassifier_algorithm_hash': '81728f5b173c58aa046e6327faa7c4b5', 'max_depth__81728f5b173c58aa046e6327faa7c4b5': 12, 'n_estimators__81728f5b173c58aa046e6327faa7c4b5': 13, 'max_features__81728f5b173c58aa046e6327faa7c4b5': <RandomForestMaxFeatures.AUTO: 'auto'>, 'descriptor': '{\"name\": \"ECFP\", \"parameters\": {\"radius\": 3, \"nBits\": 2048, \"returnRdkit\": false}}'}. Best is trial 61 with value: 0.681029655104861.\n",
      "[I 2025-01-27 09:55:54,022] Trial 97 finished with value: 0.6719784101820978 and parameters: {'algorithm_name': 'RandomForestClassifier', 'RandomForestClassifier_algorithm_hash': '81728f5b173c58aa046e6327faa7c4b5', 'max_depth__81728f5b173c58aa046e6327faa7c4b5': 15, 'n_estimators__81728f5b173c58aa046e6327faa7c4b5': 21, 'max_features__81728f5b173c58aa046e6327faa7c4b5': <RandomForestMaxFeatures.AUTO: 'auto'>, 'descriptor': '{\"name\": \"ECFP\", \"parameters\": {\"radius\": 3, \"nBits\": 2048, \"returnRdkit\": false}}'}. Best is trial 61 with value: 0.681029655104861.\n",
      "[I 2025-01-27 09:55:54,378] Trial 98 finished with value: 0.4961997607945202 and parameters: {'algorithm_name': 'RandomForestClassifier', 'RandomForestClassifier_algorithm_hash': '81728f5b173c58aa046e6327faa7c4b5', 'max_depth__81728f5b173c58aa046e6327faa7c4b5': 13, 'n_estimators__81728f5b173c58aa046e6327faa7c4b5': 26, 'max_features__81728f5b173c58aa046e6327faa7c4b5': <RandomForestMaxFeatures.AUTO: 'auto'>, 'descriptor': '{\"name\": \"PathFP\", \"parameters\": {\"maxPath\": 3, \"fpSize\": 2048}}'}. Best is trial 61 with value: 0.681029655104861.\n",
      "[I 2025-01-27 09:55:54,409] Trial 99 pruned. Duplicate parameter set\n"
     ]
    },
    {
     "name": "stdout",
     "output_type": "stream",
     "text": [
      "Duplicated trial: {'algorithm_name': 'RandomForestClassifier', 'RandomForestClassifier_algorithm_hash': '81728f5b173c58aa046e6327faa7c4b5', 'max_depth__81728f5b173c58aa046e6327faa7c4b5': 9, 'n_estimators__81728f5b173c58aa046e6327faa7c4b5': 13, 'max_features__81728f5b173c58aa046e6327faa7c4b5': <RandomForestMaxFeatures.AUTO: 'auto'>, 'descriptor': '{\"name\": \"ECFP\", \"parameters\": {\"radius\": 3, \"nBits\": 2048, \"returnRdkit\": false}}'}, return [0.6674103921040592]\n"
     ]
    }
   ],
   "source": [
    "study = optimize(config, study_name='run1') # running the optuna optimisation study"
   ]
  },
  {
   "cell_type": "code",
   "execution_count": 3,
   "metadata": {},
   "outputs": [
    {
     "data": {
      "text/plain": [
       "BuildConfig(data=Dataset(training_dataset_file='M:/ML_scripts/notebooks/tobramycin_undersampled_train.csv', input_column='Structure', response_column='Class', response_type='classification', aux_column=None, aux_transform=None, deduplication_strategy=KeepMedian(name='KeepMedian'), split_strategy=NoSplitting(name='NoSplitting'), test_dataset_file='M:/ML_scripts/notebooks/tobramycin_undersampled_test.csv', save_intermediate_files=False, intermediate_training_dataset_file=None, intermediate_test_dataset_file=None, log_transform=False, log_transform_base=None, log_transform_negative=None, log_transform_unit_conversion=None, probabilistic_threshold_representation=False, probabilistic_threshold_representation_threshold=None, probabilistic_threshold_representation_std=None, _sets_initialized=True), metadata=BuildConfig.Metadata(name='', cross_validation=5, shuffle=False, best_trial=61, best_value=0.681029655104861, n_trials=100, visualization=None), descriptor=ECFP(name='ECFP', parameters=ECFP.Parameters(radius=3, nBits=2048, returnRdkit=False)), settings=BuildConfig.Settings(mode=<ModelMode.CLASSIFICATION: 'classification'>, scoring='roc_auc', direction=<OptimizationDirection.MAXIMIZATION: 'maximize'>, n_trials=100, tracking_rest_endpoint=None), algorithm=RandomForestClassifier(name='RandomForestClassifier', parameters=RandomForestClassifier.RandomForestParameters(max_features='auto', max_depth=7, n_estimators=19)), task='building')"
      ]
     },
     "execution_count": 3,
     "metadata": {},
     "output_type": "execute_result"
    }
   ],
   "source": [
    "build_best(buildconfig_best(study), \"./test_classifier.pkl\") # build a model with the best, optimised parameters"
   ]
  },
  {
   "cell_type": "code",
   "execution_count": 4,
   "metadata": {},
   "outputs": [
    {
     "data": {
      "text/plain": [
       "array([0.89112007])"
      ]
     },
     "execution_count": 4,
     "metadata": {},
     "output_type": "execute_result"
    }
   ],
   "source": [
    "with open(r'M:\\ML_scripts\\notebooks\\test_classifier.pkl', 'rb') as a:\n",
    "    run1_model = pickle.load(a) # load the model\n",
    "\n",
    "# use the model to predict class (1 or 0) from an unseen SMILES string\n",
    "\n",
    "run1_model.predict_from_smiles('Cc1cc(c(o1)C)C(=O)[N@]2CCCCNC(=O)[C@@H]3C[C@@H](C[N@]3C(=O)Cc4c[n@](c5c4cccc5)C)[N@@](CCC2)C(=O)c6ccccc6')"
   ]
  },
  {
   "cell_type": "code",
   "execution_count": 5,
   "metadata": {},
   "outputs": [
    {
     "name": "stdout",
     "output_type": "stream",
     "text": [
      "QSARtunaModel(predictor=RandomForestClassifier(class_weight='balanced', max_depth=7, max_features=1.0,\n",
      "                       n_estimators=19, n_jobs=-1, random_state=42), descriptor=ECFP(name='ECFP', parameters=ECFP.Parameters(radius=3, nBits=2048, returnRdkit=False)), mode=<ModelMode.CLASSIFICATION: 'classification'>, transform=None, aux_transform=None, metadata={'name': '', 'buildconfig': {'data': {'training_dataset_file': 'M:/ML_scripts/notebooks/tobramycin_undersampled_train.csv', 'input_column': 'Structure', 'response_column': 'Class', 'response_type': 'classification', 'deduplication_strategy': {'name': 'KeepMedian'}, 'split_strategy': {'name': 'NoSplitting'}, 'test_dataset_file': 'M:/ML_scripts/notebooks/tobramycin_undersampled_test.csv', 'save_intermediate_files': False, 'log_transform': False, 'log_transform_base': None, 'log_transform_negative': None, 'log_transform_unit_conversion': None, 'probabilistic_threshold_representation': False, 'probabilistic_threshold_representation_threshold': None, 'probabilistic_threshold_representation_std': None}, 'metadata': {'name': '', 'cross_validation': 5, 'shuffle': False, 'best_trial': 61, 'best_value': 0.681029655104861, 'n_trials': 100, 'visualization': None}, 'descriptor': {'name': 'ECFP', 'parameters': {'radius': 3, 'nBits': 2048, 'returnRdkit': False}}, 'settings': {'mode': <ModelMode.CLASSIFICATION: 'classification'>, 'scoring': 'roc_auc', 'direction': <OptimizationDirection.MAXIMIZATION: 'maximize'>, 'n_trials': 100, 'tracking_rest_endpoint': None}, 'algorithm': {'name': 'RandomForestClassifier', 'parameters': {'max_features': 'auto', 'max_depth': 7, 'n_estimators': 19}}, 'task': 'building'}, 'version': '3.1.3', 'train_scores': {'accuracy': 0.8902439024390244, 'average_precision': 0.9679576103219998, 'balanced_accuracy': 0.8889882727092029, 'f1': 0.8973384030418251, 'f1_macro': 0.8897172364554103, 'f1_micro': 0.8902439024390244, 'f1_weighted': 0.8900890006791379, 'jaccard': 0.8137931034482758, 'jaccard_macro': 0.8014278017241379, 'jaccard_micro': 0.8021978021978022, 'jaccard_weighted': 0.8020309871740958, 'neg_brier_score': -0.11621918645004947, 'precision': 0.8805970149253731, 'precision_macro': 0.8911913646055437, 'precision_micro': 0.8902439024390244, 'precision_weighted': 0.8906745670601696, 'recall': 0.9147286821705426, 'recall_macro': 0.8889882727092029, 'recall_micro': 0.8902439024390244, 'recall_weighted': 0.8902439024390244, 'roc_auc': 0.9637911614655801, 'auc_pr_cal': 0.8366479945675726, 'bedroc': 0.9995880542919641, 'concordance_index': 0.9637911614655801}, 'test_scores': {'accuracy': 0.573170731707317, 'average_precision': 0.5674826664479311, 'balanced_accuracy': 0.5729483282674772, 'f1': 0.5333333333333333, 'f1_macro': 0.5700374531835206, 'f1_micro': 0.573170731707317, 'f1_weighted': 0.5754087877957432, 'jaccard': 0.36363636363636365, 'jaccard_macro': 0.39956011730205276, 'jaccard_micro': 0.4017094017094017, 'jaccard_weighted': 0.4048172519848366, 'neg_brier_score': -0.2476727373313095, 'precision': 0.5, 'precision_macro': 0.5714285714285714, 'precision_micro': 0.573170731707317, 'precision_weighted': 0.5818815331010453, 'recall': 0.5714285714285714, 'recall_macro': 0.5729483282674772, 'recall_micro': 0.573170731707317, 'recall_weighted': 0.573170731707317, 'roc_auc': 0.6218085106382979, 'auc_pr_cal': 0.1798880415782516, 'bedroc': 0.6999341755392212, 'concordance_index': 0.6218085106382979}, 'date_created': '20250127-095628', 'hash': 'e2e180393793fc2ecae64e9a9fdfa843'})\n"
     ]
    }
   ],
   "source": [
    "print(run1_model) # print, just to see metrics \n",
    "\n",
    "\n",
    "# for this model:\n",
    "# train scores:\n",
    "# accuracy=0.89, f1=0.9, neg_brier_score=-0.12 (better=closer to 0), roc_auc=0.96\n",
    "# \n",
    "# test scores:\n",
    "# accuracy=0.57, f1=0.5333, neg_brier_score=-0.25, roc_auc=0.62 "
   ]
  }
 ],
 "metadata": {
  "kernelspec": {
   "display_name": "qsartuna_313",
   "language": "python",
   "name": "python3"
  },
  "language_info": {
   "codemirror_mode": {
    "name": "ipython",
    "version": 3
   },
   "file_extension": ".py",
   "mimetype": "text/x-python",
   "name": "python",
   "nbconvert_exporter": "python",
   "pygments_lexer": "ipython3",
   "version": "3.10.10"
  }
 },
 "nbformat": 4,
 "nbformat_minor": 2
}
